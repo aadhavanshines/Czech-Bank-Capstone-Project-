{
  "cells": [
    {
      "cell_type": "markdown",
      "metadata": {
        "id": "kCGOj5oT1YV9"
      },
      "source": [
        "# Practice Exercise: Cleaning data & Transforming columns/features"
      ]
    },
    {
      "cell_type": "markdown",
      "metadata": {
        "id": "kC6_TcqO1YWA"
      },
      "source": [
        "## Context:\n",
        "- The data is based on real anonymized Czech bank transactions and account info.\n",
        "- We'll be focusing on practicing the data cleaning, columns transformations, and other techniques that we've learned in the course. \n",
        "- But here is the original task description of the dataset publishers:\n",
        "\n",
        "*The bank wants to improve their services. For instance, the bank managers have only vague idea, who is a good client (whom to offer some additional services)   and who is a bad client (whom to watch carefully to minimize the bank losses). Fortunately, the bank stores data about their clients, the accounts (transactions within several months), the loans already granted, the credit cards issued. The bank managers hope to improve their understanding of customers and seek specific actions to improve services.*\n",
        "\n",
        "- We've made minor changes on the data to fit this exercise, such as changing the column names. Check out the original source if you are interested in using this data for other purposes (https://data.world/lpetrocelli/czech-financial-dataset-real-anonymized-transactions)"
      ]
    },
    {
      "cell_type": "markdown",
      "metadata": {
        "id": "tBnzgLZh1YWB"
      },
      "source": [
        "## Dataset Description:\n",
        "\n",
        "We'll work on three datasets (in three separate csv files):\n",
        "\n",
        "  - **account**: each record describes static characteristics of an account\n",
        "  - **transaction**: each record describes one transaction on an account\n",
        "  - **district**: each record describes demographic characteristics of a district\n",
        "  \n",
        "In reality, the organizations like banks often have data stored in multiple datasets. Assume we want to study the transactional level data, we'll need to combine these three datasets together to have transactions data with account and district data."
      ]
    },
    {
      "cell_type": "markdown",
      "metadata": {
        "id": "A5nqGGGf1YWC"
      },
      "source": [
        "## Objective: \n",
        "   - Examine/clean the individual dataset\n",
        "   - Combine them into a single dataset, which is subject to more cleaning\n",
        "   - Create new columns based on existing columns\n",
        "\n",
        "By the end, the new dataset is ready for more analysis."
      ]
    },
    {
      "cell_type": "markdown",
      "metadata": {
        "id": "TB_CjoLT1YWD"
      },
      "source": [
        "### 1. Import the libraries"
      ]
    },
    {
      "cell_type": "code",
      "execution_count": null,
      "metadata": {
        "id": "WypztoOP1YWD"
      },
      "outputs": [],
      "source": [
        "import pandas as pd"
      ]
    },
    {
      "cell_type": "markdown",
      "metadata": {
        "id": "VqG0sIlv1YWE"
      },
      "source": [
        "### 2. Import the data from three csv files as DataFrames `account`, `district`, `trans`\n",
        "Hint: \n",
        "- the `read_csv` function can automatically infer and load zip file, read its documentation of parameter `compression` if you are interested in details\n",
        "- you may ignore the warning when reading the `trans.csv.zip` file. It is optional to follow the warning instructions to remove it."
      ]
    },
    {
      "cell_type": "code",
      "execution_count": null,
      "metadata": {
        "id": "u5FWlaRG1YWF"
      },
      "outputs": [],
      "source": [
        "account = pd.read_csv('/content/account.csv')\n",
        "district = pd.read_csv('/content/district.csv')\n",
        "trans = pd.read_csv('/content/trans.csv')"
      ]
    },
    {
      "cell_type": "markdown",
      "metadata": {
        "id": "qxv2qU1m1YWF"
      },
      "source": [
        "### 3. Look at the info summary, head of each DataFrame"
      ]
    },
    {
      "cell_type": "code",
      "execution_count": null,
      "metadata": {
        "colab": {
          "base_uri": "https://localhost:8080/",
          "height": 81
        },
        "id": "NkLYo7E51YWG",
        "outputId": "e6aaed4b-667a-4f69-8a83-f04d2c89f4a1"
      },
      "outputs": [
        {
          "output_type": "execute_result",
          "data": {
            "text/plain": [
              "   account_id  district_id           frequency account_open_date  client_id\n",
              "0         576           55  MONTHLY STATEMENTS        1993-01-01        692"
            ],
            "text/html": [
              "\n",
              "  <div id=\"df-04ba5404-7ffb-4841-9d41-30bd3268ea9b\">\n",
              "    <div class=\"colab-df-container\">\n",
              "      <div>\n",
              "<style scoped>\n",
              "    .dataframe tbody tr th:only-of-type {\n",
              "        vertical-align: middle;\n",
              "    }\n",
              "\n",
              "    .dataframe tbody tr th {\n",
              "        vertical-align: top;\n",
              "    }\n",
              "\n",
              "    .dataframe thead th {\n",
              "        text-align: right;\n",
              "    }\n",
              "</style>\n",
              "<table border=\"1\" class=\"dataframe\">\n",
              "  <thead>\n",
              "    <tr style=\"text-align: right;\">\n",
              "      <th></th>\n",
              "      <th>account_id</th>\n",
              "      <th>district_id</th>\n",
              "      <th>frequency</th>\n",
              "      <th>account_open_date</th>\n",
              "      <th>client_id</th>\n",
              "    </tr>\n",
              "  </thead>\n",
              "  <tbody>\n",
              "    <tr>\n",
              "      <th>0</th>\n",
              "      <td>576</td>\n",
              "      <td>55</td>\n",
              "      <td>MONTHLY STATEMENTS</td>\n",
              "      <td>1993-01-01</td>\n",
              "      <td>692</td>\n",
              "    </tr>\n",
              "  </tbody>\n",
              "</table>\n",
              "</div>\n",
              "      <button class=\"colab-df-convert\" onclick=\"convertToInteractive('df-04ba5404-7ffb-4841-9d41-30bd3268ea9b')\"\n",
              "              title=\"Convert this dataframe to an interactive table.\"\n",
              "              style=\"display:none;\">\n",
              "        \n",
              "  <svg xmlns=\"http://www.w3.org/2000/svg\" height=\"24px\"viewBox=\"0 0 24 24\"\n",
              "       width=\"24px\">\n",
              "    <path d=\"M0 0h24v24H0V0z\" fill=\"none\"/>\n",
              "    <path d=\"M18.56 5.44l.94 2.06.94-2.06 2.06-.94-2.06-.94-.94-2.06-.94 2.06-2.06.94zm-11 1L8.5 8.5l.94-2.06 2.06-.94-2.06-.94L8.5 2.5l-.94 2.06-2.06.94zm10 10l.94 2.06.94-2.06 2.06-.94-2.06-.94-.94-2.06-.94 2.06-2.06.94z\"/><path d=\"M17.41 7.96l-1.37-1.37c-.4-.4-.92-.59-1.43-.59-.52 0-1.04.2-1.43.59L10.3 9.45l-7.72 7.72c-.78.78-.78 2.05 0 2.83L4 21.41c.39.39.9.59 1.41.59.51 0 1.02-.2 1.41-.59l7.78-7.78 2.81-2.81c.8-.78.8-2.07 0-2.86zM5.41 20L4 18.59l7.72-7.72 1.47 1.35L5.41 20z\"/>\n",
              "  </svg>\n",
              "      </button>\n",
              "      \n",
              "  <style>\n",
              "    .colab-df-container {\n",
              "      display:flex;\n",
              "      flex-wrap:wrap;\n",
              "      gap: 12px;\n",
              "    }\n",
              "\n",
              "    .colab-df-convert {\n",
              "      background-color: #E8F0FE;\n",
              "      border: none;\n",
              "      border-radius: 50%;\n",
              "      cursor: pointer;\n",
              "      display: none;\n",
              "      fill: #1967D2;\n",
              "      height: 32px;\n",
              "      padding: 0 0 0 0;\n",
              "      width: 32px;\n",
              "    }\n",
              "\n",
              "    .colab-df-convert:hover {\n",
              "      background-color: #E2EBFA;\n",
              "      box-shadow: 0px 1px 2px rgba(60, 64, 67, 0.3), 0px 1px 3px 1px rgba(60, 64, 67, 0.15);\n",
              "      fill: #174EA6;\n",
              "    }\n",
              "\n",
              "    [theme=dark] .colab-df-convert {\n",
              "      background-color: #3B4455;\n",
              "      fill: #D2E3FC;\n",
              "    }\n",
              "\n",
              "    [theme=dark] .colab-df-convert:hover {\n",
              "      background-color: #434B5C;\n",
              "      box-shadow: 0px 1px 3px 1px rgba(0, 0, 0, 0.15);\n",
              "      filter: drop-shadow(0px 1px 2px rgba(0, 0, 0, 0.3));\n",
              "      fill: #FFFFFF;\n",
              "    }\n",
              "  </style>\n",
              "\n",
              "      <script>\n",
              "        const buttonEl =\n",
              "          document.querySelector('#df-04ba5404-7ffb-4841-9d41-30bd3268ea9b button.colab-df-convert');\n",
              "        buttonEl.style.display =\n",
              "          google.colab.kernel.accessAllowed ? 'block' : 'none';\n",
              "\n",
              "        async function convertToInteractive(key) {\n",
              "          const element = document.querySelector('#df-04ba5404-7ffb-4841-9d41-30bd3268ea9b');\n",
              "          const dataTable =\n",
              "            await google.colab.kernel.invokeFunction('convertToInteractive',\n",
              "                                                     [key], {});\n",
              "          if (!dataTable) return;\n",
              "\n",
              "          const docLinkHtml = 'Like what you see? Visit the ' +\n",
              "            '<a target=\"_blank\" href=https://colab.research.google.com/notebooks/data_table.ipynb>data table notebook</a>'\n",
              "            + ' to learn more about interactive tables.';\n",
              "          element.innerHTML = '';\n",
              "          dataTable['output_type'] = 'display_data';\n",
              "          await google.colab.output.renderOutput(dataTable, element);\n",
              "          const docLink = document.createElement('div');\n",
              "          docLink.innerHTML = docLinkHtml;\n",
              "          element.appendChild(docLink);\n",
              "        }\n",
              "      </script>\n",
              "    </div>\n",
              "  </div>\n",
              "  "
            ]
          },
          "metadata": {},
          "execution_count": 7
        }
      ],
      "source": [
        "account.head(1)"
      ]
    },
    {
      "cell_type": "code",
      "source": [
        "account.info()"
      ],
      "metadata": {
        "colab": {
          "base_uri": "https://localhost:8080/"
        },
        "id": "85b0kAlh3CvQ",
        "outputId": "5469a303-2d66-4cec-a35e-2d27e011004e"
      },
      "execution_count": null,
      "outputs": [
        {
          "output_type": "stream",
          "name": "stdout",
          "text": [
            "<class 'pandas.core.frame.DataFrame'>\n",
            "RangeIndex: 4500 entries, 0 to 4499\n",
            "Data columns (total 5 columns):\n",
            " #   Column             Non-Null Count  Dtype \n",
            "---  ------             --------------  ----- \n",
            " 0   account_id         4500 non-null   int64 \n",
            " 1   district_id        4500 non-null   int64 \n",
            " 2   frequency          4500 non-null   object\n",
            " 3   account_open_date  4500 non-null   object\n",
            " 4   client_id          4500 non-null   int64 \n",
            "dtypes: int64(3), object(2)\n",
            "memory usage: 175.9+ KB\n"
          ]
        }
      ]
    },
    {
      "cell_type": "code",
      "source": [
        "district.head(1)"
      ],
      "metadata": {
        "colab": {
          "base_uri": "https://localhost:8080/",
          "height": 125
        },
        "id": "KahVRgrN3REs",
        "outputId": "b426b3f6-de81-46f0-f69b-569e3bd0a4da"
      },
      "execution_count": null,
      "outputs": [
        {
          "output_type": "execute_result",
          "data": {
            "text/plain": [
              "   district_id district_name  region  population  average_salary  \\\n",
              "0            1   Hl.m. Praha  Prague     1204953         12541.0   \n",
              "\n",
              "   unemployment_rate  num_committed_crimes  \n",
              "0               0.43               99107.0  "
            ],
            "text/html": [
              "\n",
              "  <div id=\"df-7f7042f5-70b5-4521-bb69-dc2c29308d9c\">\n",
              "    <div class=\"colab-df-container\">\n",
              "      <div>\n",
              "<style scoped>\n",
              "    .dataframe tbody tr th:only-of-type {\n",
              "        vertical-align: middle;\n",
              "    }\n",
              "\n",
              "    .dataframe tbody tr th {\n",
              "        vertical-align: top;\n",
              "    }\n",
              "\n",
              "    .dataframe thead th {\n",
              "        text-align: right;\n",
              "    }\n",
              "</style>\n",
              "<table border=\"1\" class=\"dataframe\">\n",
              "  <thead>\n",
              "    <tr style=\"text-align: right;\">\n",
              "      <th></th>\n",
              "      <th>district_id</th>\n",
              "      <th>district_name</th>\n",
              "      <th>region</th>\n",
              "      <th>population</th>\n",
              "      <th>average_salary</th>\n",
              "      <th>unemployment_rate</th>\n",
              "      <th>num_committed_crimes</th>\n",
              "    </tr>\n",
              "  </thead>\n",
              "  <tbody>\n",
              "    <tr>\n",
              "      <th>0</th>\n",
              "      <td>1</td>\n",
              "      <td>Hl.m. Praha</td>\n",
              "      <td>Prague</td>\n",
              "      <td>1204953</td>\n",
              "      <td>12541.0</td>\n",
              "      <td>0.43</td>\n",
              "      <td>99107.0</td>\n",
              "    </tr>\n",
              "  </tbody>\n",
              "</table>\n",
              "</div>\n",
              "      <button class=\"colab-df-convert\" onclick=\"convertToInteractive('df-7f7042f5-70b5-4521-bb69-dc2c29308d9c')\"\n",
              "              title=\"Convert this dataframe to an interactive table.\"\n",
              "              style=\"display:none;\">\n",
              "        \n",
              "  <svg xmlns=\"http://www.w3.org/2000/svg\" height=\"24px\"viewBox=\"0 0 24 24\"\n",
              "       width=\"24px\">\n",
              "    <path d=\"M0 0h24v24H0V0z\" fill=\"none\"/>\n",
              "    <path d=\"M18.56 5.44l.94 2.06.94-2.06 2.06-.94-2.06-.94-.94-2.06-.94 2.06-2.06.94zm-11 1L8.5 8.5l.94-2.06 2.06-.94-2.06-.94L8.5 2.5l-.94 2.06-2.06.94zm10 10l.94 2.06.94-2.06 2.06-.94-2.06-.94-.94-2.06-.94 2.06-2.06.94z\"/><path d=\"M17.41 7.96l-1.37-1.37c-.4-.4-.92-.59-1.43-.59-.52 0-1.04.2-1.43.59L10.3 9.45l-7.72 7.72c-.78.78-.78 2.05 0 2.83L4 21.41c.39.39.9.59 1.41.59.51 0 1.02-.2 1.41-.59l7.78-7.78 2.81-2.81c.8-.78.8-2.07 0-2.86zM5.41 20L4 18.59l7.72-7.72 1.47 1.35L5.41 20z\"/>\n",
              "  </svg>\n",
              "      </button>\n",
              "      \n",
              "  <style>\n",
              "    .colab-df-container {\n",
              "      display:flex;\n",
              "      flex-wrap:wrap;\n",
              "      gap: 12px;\n",
              "    }\n",
              "\n",
              "    .colab-df-convert {\n",
              "      background-color: #E8F0FE;\n",
              "      border: none;\n",
              "      border-radius: 50%;\n",
              "      cursor: pointer;\n",
              "      display: none;\n",
              "      fill: #1967D2;\n",
              "      height: 32px;\n",
              "      padding: 0 0 0 0;\n",
              "      width: 32px;\n",
              "    }\n",
              "\n",
              "    .colab-df-convert:hover {\n",
              "      background-color: #E2EBFA;\n",
              "      box-shadow: 0px 1px 2px rgba(60, 64, 67, 0.3), 0px 1px 3px 1px rgba(60, 64, 67, 0.15);\n",
              "      fill: #174EA6;\n",
              "    }\n",
              "\n",
              "    [theme=dark] .colab-df-convert {\n",
              "      background-color: #3B4455;\n",
              "      fill: #D2E3FC;\n",
              "    }\n",
              "\n",
              "    [theme=dark] .colab-df-convert:hover {\n",
              "      background-color: #434B5C;\n",
              "      box-shadow: 0px 1px 3px 1px rgba(0, 0, 0, 0.15);\n",
              "      filter: drop-shadow(0px 1px 2px rgba(0, 0, 0, 0.3));\n",
              "      fill: #FFFFFF;\n",
              "    }\n",
              "  </style>\n",
              "\n",
              "      <script>\n",
              "        const buttonEl =\n",
              "          document.querySelector('#df-7f7042f5-70b5-4521-bb69-dc2c29308d9c button.colab-df-convert');\n",
              "        buttonEl.style.display =\n",
              "          google.colab.kernel.accessAllowed ? 'block' : 'none';\n",
              "\n",
              "        async function convertToInteractive(key) {\n",
              "          const element = document.querySelector('#df-7f7042f5-70b5-4521-bb69-dc2c29308d9c');\n",
              "          const dataTable =\n",
              "            await google.colab.kernel.invokeFunction('convertToInteractive',\n",
              "                                                     [key], {});\n",
              "          if (!dataTable) return;\n",
              "\n",
              "          const docLinkHtml = 'Like what you see? Visit the ' +\n",
              "            '<a target=\"_blank\" href=https://colab.research.google.com/notebooks/data_table.ipynb>data table notebook</a>'\n",
              "            + ' to learn more about interactive tables.';\n",
              "          element.innerHTML = '';\n",
              "          dataTable['output_type'] = 'display_data';\n",
              "          await google.colab.output.renderOutput(dataTable, element);\n",
              "          const docLink = document.createElement('div');\n",
              "          docLink.innerHTML = docLinkHtml;\n",
              "          element.appendChild(docLink);\n",
              "        }\n",
              "      </script>\n",
              "    </div>\n",
              "  </div>\n",
              "  "
            ]
          },
          "metadata": {},
          "execution_count": 8
        }
      ]
    },
    {
      "cell_type": "code",
      "source": [
        "district.info()"
      ],
      "metadata": {
        "colab": {
          "base_uri": "https://localhost:8080/"
        },
        "id": "QBUGgrbT3Wzy",
        "outputId": "ddfc0496-678b-446b-8a61-59fb9a84784c"
      },
      "execution_count": null,
      "outputs": [
        {
          "output_type": "stream",
          "name": "stdout",
          "text": [
            "<class 'pandas.core.frame.DataFrame'>\n",
            "RangeIndex: 76 entries, 0 to 75\n",
            "Data columns (total 7 columns):\n",
            " #   Column                Non-Null Count  Dtype  \n",
            "---  ------                --------------  -----  \n",
            " 0   district_id           76 non-null     int64  \n",
            " 1   district_name         76 non-null     object \n",
            " 2   region                76 non-null     object \n",
            " 3   population            76 non-null     int64  \n",
            " 4   average_salary        66 non-null     float64\n",
            " 5   unemployment_rate     66 non-null     float64\n",
            " 6   num_committed_crimes  67 non-null     float64\n",
            "dtypes: float64(3), int64(2), object(2)\n",
            "memory usage: 4.3+ KB\n"
          ]
        }
      ]
    },
    {
      "cell_type": "code",
      "source": [
        "trans.head(1)"
      ],
      "metadata": {
        "colab": {
          "base_uri": "https://localhost:8080/",
          "height": 162
        },
        "id": "_cCqlPs73b7c",
        "outputId": "09a48b7d-4a86-47bd-87ed-7ab05a6fb097"
      },
      "execution_count": null,
      "outputs": [
        {
          "output_type": "execute_result",
          "data": {
            "text/plain": [
              "   trans_id  account_id        date    type  operation_type  amount  balance  \\\n",
              "0    695247      2378.0  1993-01-01  CREDIT  CREDIT IN CASH   700.0    700.0   \n",
              "\n",
              "  description partner_bank  partner_account  \n",
              "0         NaN          NaN              NaN  "
            ],
            "text/html": [
              "\n",
              "  <div id=\"df-c305c645-40ff-477e-940f-48c7ad4bf0f4\">\n",
              "    <div class=\"colab-df-container\">\n",
              "      <div>\n",
              "<style scoped>\n",
              "    .dataframe tbody tr th:only-of-type {\n",
              "        vertical-align: middle;\n",
              "    }\n",
              "\n",
              "    .dataframe tbody tr th {\n",
              "        vertical-align: top;\n",
              "    }\n",
              "\n",
              "    .dataframe thead th {\n",
              "        text-align: right;\n",
              "    }\n",
              "</style>\n",
              "<table border=\"1\" class=\"dataframe\">\n",
              "  <thead>\n",
              "    <tr style=\"text-align: right;\">\n",
              "      <th></th>\n",
              "      <th>trans_id</th>\n",
              "      <th>account_id</th>\n",
              "      <th>date</th>\n",
              "      <th>type</th>\n",
              "      <th>operation_type</th>\n",
              "      <th>amount</th>\n",
              "      <th>balance</th>\n",
              "      <th>description</th>\n",
              "      <th>partner_bank</th>\n",
              "      <th>partner_account</th>\n",
              "    </tr>\n",
              "  </thead>\n",
              "  <tbody>\n",
              "    <tr>\n",
              "      <th>0</th>\n",
              "      <td>695247</td>\n",
              "      <td>2378.0</td>\n",
              "      <td>1993-01-01</td>\n",
              "      <td>CREDIT</td>\n",
              "      <td>CREDIT IN CASH</td>\n",
              "      <td>700.0</td>\n",
              "      <td>700.0</td>\n",
              "      <td>NaN</td>\n",
              "      <td>NaN</td>\n",
              "      <td>NaN</td>\n",
              "    </tr>\n",
              "  </tbody>\n",
              "</table>\n",
              "</div>\n",
              "      <button class=\"colab-df-convert\" onclick=\"convertToInteractive('df-c305c645-40ff-477e-940f-48c7ad4bf0f4')\"\n",
              "              title=\"Convert this dataframe to an interactive table.\"\n",
              "              style=\"display:none;\">\n",
              "        \n",
              "  <svg xmlns=\"http://www.w3.org/2000/svg\" height=\"24px\"viewBox=\"0 0 24 24\"\n",
              "       width=\"24px\">\n",
              "    <path d=\"M0 0h24v24H0V0z\" fill=\"none\"/>\n",
              "    <path d=\"M18.56 5.44l.94 2.06.94-2.06 2.06-.94-2.06-.94-.94-2.06-.94 2.06-2.06.94zm-11 1L8.5 8.5l.94-2.06 2.06-.94-2.06-.94L8.5 2.5l-.94 2.06-2.06.94zm10 10l.94 2.06.94-2.06 2.06-.94-2.06-.94-.94-2.06-.94 2.06-2.06.94z\"/><path d=\"M17.41 7.96l-1.37-1.37c-.4-.4-.92-.59-1.43-.59-.52 0-1.04.2-1.43.59L10.3 9.45l-7.72 7.72c-.78.78-.78 2.05 0 2.83L4 21.41c.39.39.9.59 1.41.59.51 0 1.02-.2 1.41-.59l7.78-7.78 2.81-2.81c.8-.78.8-2.07 0-2.86zM5.41 20L4 18.59l7.72-7.72 1.47 1.35L5.41 20z\"/>\n",
              "  </svg>\n",
              "      </button>\n",
              "      \n",
              "  <style>\n",
              "    .colab-df-container {\n",
              "      display:flex;\n",
              "      flex-wrap:wrap;\n",
              "      gap: 12px;\n",
              "    }\n",
              "\n",
              "    .colab-df-convert {\n",
              "      background-color: #E8F0FE;\n",
              "      border: none;\n",
              "      border-radius: 50%;\n",
              "      cursor: pointer;\n",
              "      display: none;\n",
              "      fill: #1967D2;\n",
              "      height: 32px;\n",
              "      padding: 0 0 0 0;\n",
              "      width: 32px;\n",
              "    }\n",
              "\n",
              "    .colab-df-convert:hover {\n",
              "      background-color: #E2EBFA;\n",
              "      box-shadow: 0px 1px 2px rgba(60, 64, 67, 0.3), 0px 1px 3px 1px rgba(60, 64, 67, 0.15);\n",
              "      fill: #174EA6;\n",
              "    }\n",
              "\n",
              "    [theme=dark] .colab-df-convert {\n",
              "      background-color: #3B4455;\n",
              "      fill: #D2E3FC;\n",
              "    }\n",
              "\n",
              "    [theme=dark] .colab-df-convert:hover {\n",
              "      background-color: #434B5C;\n",
              "      box-shadow: 0px 1px 3px 1px rgba(0, 0, 0, 0.15);\n",
              "      filter: drop-shadow(0px 1px 2px rgba(0, 0, 0, 0.3));\n",
              "      fill: #FFFFFF;\n",
              "    }\n",
              "  </style>\n",
              "\n",
              "      <script>\n",
              "        const buttonEl =\n",
              "          document.querySelector('#df-c305c645-40ff-477e-940f-48c7ad4bf0f4 button.colab-df-convert');\n",
              "        buttonEl.style.display =\n",
              "          google.colab.kernel.accessAllowed ? 'block' : 'none';\n",
              "\n",
              "        async function convertToInteractive(key) {\n",
              "          const element = document.querySelector('#df-c305c645-40ff-477e-940f-48c7ad4bf0f4');\n",
              "          const dataTable =\n",
              "            await google.colab.kernel.invokeFunction('convertToInteractive',\n",
              "                                                     [key], {});\n",
              "          if (!dataTable) return;\n",
              "\n",
              "          const docLinkHtml = 'Like what you see? Visit the ' +\n",
              "            '<a target=\"_blank\" href=https://colab.research.google.com/notebooks/data_table.ipynb>data table notebook</a>'\n",
              "            + ' to learn more about interactive tables.';\n",
              "          element.innerHTML = '';\n",
              "          dataTable['output_type'] = 'display_data';\n",
              "          await google.colab.output.renderOutput(dataTable, element);\n",
              "          const docLink = document.createElement('div');\n",
              "          docLink.innerHTML = docLinkHtml;\n",
              "          element.appendChild(docLink);\n",
              "        }\n",
              "      </script>\n",
              "    </div>\n",
              "  </div>\n",
              "  "
            ]
          },
          "metadata": {},
          "execution_count": 10
        }
      ]
    },
    {
      "cell_type": "code",
      "source": [
        "trans.info()"
      ],
      "metadata": {
        "colab": {
          "base_uri": "https://localhost:8080/"
        },
        "id": "slI65QIc3h3N",
        "outputId": "79995da8-d2ff-45b0-bcd2-eaa88810a951"
      },
      "execution_count": null,
      "outputs": [
        {
          "output_type": "stream",
          "name": "stdout",
          "text": [
            "<class 'pandas.core.frame.DataFrame'>\n",
            "RangeIndex: 43691 entries, 0 to 43690\n",
            "Data columns (total 10 columns):\n",
            " #   Column           Non-Null Count  Dtype  \n",
            "---  ------           --------------  -----  \n",
            " 0   trans_id         43691 non-null  int64  \n",
            " 1   account_id       43690 non-null  float64\n",
            " 2   date             43690 non-null  object \n",
            " 3   type             43690 non-null  object \n",
            " 4   operation_type   35385 non-null  object \n",
            " 5   amount           43690 non-null  float64\n",
            " 6   balance          43690 non-null  float64\n",
            " 7   description      19770 non-null  object \n",
            " 8   partner_bank     8817 non-null   object \n",
            " 9   partner_account  9489 non-null   float64\n",
            "dtypes: float64(4), int64(1), object(5)\n",
            "memory usage: 3.3+ MB\n"
          ]
        }
      ]
    },
    {
      "cell_type": "markdown",
      "metadata": {
        "id": "yN-_O2_q1YWG"
      },
      "source": [
        "### 4. Check for the unique values and their counts in each column for the three DataFrames"
      ]
    },
    {
      "cell_type": "code",
      "source": [
        "account_cat_cols = account.select_dtypes(exclude='number').columns\n",
        "district_cat_cols = district.select_dtypes(exclude='number').columns\n",
        "trans_cat_cols = trans.select_dtypes(exclude='number').columns"
      ],
      "metadata": {
        "id": "1VUDmyv84EWi"
      },
      "execution_count": null,
      "outputs": []
    },
    {
      "cell_type": "code",
      "execution_count": null,
      "metadata": {
        "colab": {
          "base_uri": "https://localhost:8080/"
        },
        "id": "MWs4gOA81YWG",
        "outputId": "817c8c02-879e-4c24-cda9-eff6043383dc"
      },
      "outputs": [
        {
          "output_type": "execute_result",
          "data": {
            "text/plain": [
              "frequency           account_open_date\n",
              "MONTHLY STATEMENTS  1993-02-08           12\n",
              "                    1996-06-25           11\n",
              "                    1996-11-24           10\n",
              "                    1993-10-08           10\n",
              "                    1993-02-27           10\n",
              "                                         ..\n",
              "                    1994-02-10            1\n",
              "                    1994-02-07            1\n",
              "                    1994-02-06            1\n",
              "                    1994-02-03            1\n",
              "WEEKLY STATEMENTS   1997-12-26            1\n",
              "Length: 1816, dtype: int64"
            ]
          },
          "metadata": {},
          "execution_count": 20
        }
      ],
      "source": [
        "account[account_cat_cols].value_counts()"
      ]
    },
    {
      "cell_type": "code",
      "source": [
        "district[district_cat_cols].value_counts()"
      ],
      "metadata": {
        "colab": {
          "base_uri": "https://localhost:8080/"
        },
        "id": "ZRXlHFw68ukV",
        "outputId": "48d28b95-1a94-4f2c-c9d2-811ec66218b6"
      },
      "execution_count": null,
      "outputs": [
        {
          "output_type": "execute_result",
          "data": {
            "text/plain": [
              "district_name      region         \n",
              "Benesov            central Bohemia    1\n",
              "Plzen - mesto      west Bohemia       1\n",
              "Prostejov          south Moravia      1\n",
              "Pribram            central Bohemia    1\n",
              "Prerov             north Moravia      1\n",
              "                                     ..\n",
              "Jindrichuv Hradec  south Bohemia      1\n",
              "Jihlava            south Moravia      1\n",
              "Jicin              east Bohemia       1\n",
              "Jesenik            north Moravia      1\n",
              "Znojmo             south Moravia      1\n",
              "Length: 76, dtype: int64"
            ]
          },
          "metadata": {},
          "execution_count": 22
        }
      ]
    },
    {
      "cell_type": "code",
      "source": [
        "trans[trans_cat_cols].value_counts()"
      ],
      "metadata": {
        "colab": {
          "base_uri": "https://localhost:8080/"
        },
        "id": "7Ls5XFYR8u0o",
        "outputId": "b7bf7f7b-fece-436a-ef38-d1841720f460"
      },
      "execution_count": null,
      "outputs": [
        {
          "output_type": "execute_result",
          "data": {
            "text/plain": [
              "date        type    operation_type                description   partner_bank\n",
              "1994-02-13  DEBIT   REMITTANCE TO ANOTHER BANK    HOUSEHOLD     OP              10\n",
              "1994-02-09  DEBIT   REMITTANCE TO ANOTHER BANK    HOUSEHOLD     AB              10\n",
              "1994-02-11  DEBIT   REMITTANCE TO ANOTHER BANK    HOUSEHOLD     UV               9\n",
              "1994-01-12  DEBIT   REMITTANCE TO ANOTHER BANK    HOUSEHOLD     IJ               9\n",
              "1994-01-13  DEBIT   REMITTANCE TO ANOTHER BANK    HOUSEHOLD     OP               9\n",
              "                                                                                ..\n",
              "1993-07-12  DEBIT   REMITTANCE TO ANOTHER BANK    LOAN PAYMENT  OP               1\n",
              "1993-07-13  CREDIT  COLLECTION FROM ANOTHER BANK  PENSION       CD               1\n",
              "1993-11-11  DEBIT   REMITTANCE TO ANOTHER BANK    HOUSEHOLD     OP               1\n",
              "                                                                KL               1\n",
              "1993-01-05  CREDIT  COLLECTION FROM ANOTHER BANK  PENSION       YZ               1\n",
              "Length: 3243, dtype: int64"
            ]
          },
          "metadata": {},
          "execution_count": 23
        }
      ]
    },
    {
      "cell_type": "markdown",
      "metadata": {
        "id": "wMC-6fN91YWH"
      },
      "source": [
        "### 5. Check for duplicates in the three DataFrames"
      ]
    },
    {
      "cell_type": "code",
      "execution_count": null,
      "metadata": {
        "colab": {
          "base_uri": "https://localhost:8080/",
          "height": 49
        },
        "id": "TwHS8nv21YWH",
        "outputId": "4578d802-2588-40d7-eb93-b76252fb011f"
      },
      "outputs": [
        {
          "output_type": "execute_result",
          "data": {
            "text/plain": [
              "Empty DataFrame\n",
              "Columns: [account_id, district_id, frequency, account_open_date, client_id]\n",
              "Index: []"
            ],
            "text/html": [
              "\n",
              "  <div id=\"df-35883bdf-71e3-4d64-b360-619712f42a31\">\n",
              "    <div class=\"colab-df-container\">\n",
              "      <div>\n",
              "<style scoped>\n",
              "    .dataframe tbody tr th:only-of-type {\n",
              "        vertical-align: middle;\n",
              "    }\n",
              "\n",
              "    .dataframe tbody tr th {\n",
              "        vertical-align: top;\n",
              "    }\n",
              "\n",
              "    .dataframe thead th {\n",
              "        text-align: right;\n",
              "    }\n",
              "</style>\n",
              "<table border=\"1\" class=\"dataframe\">\n",
              "  <thead>\n",
              "    <tr style=\"text-align: right;\">\n",
              "      <th></th>\n",
              "      <th>account_id</th>\n",
              "      <th>district_id</th>\n",
              "      <th>frequency</th>\n",
              "      <th>account_open_date</th>\n",
              "      <th>client_id</th>\n",
              "    </tr>\n",
              "  </thead>\n",
              "  <tbody>\n",
              "  </tbody>\n",
              "</table>\n",
              "</div>\n",
              "      <button class=\"colab-df-convert\" onclick=\"convertToInteractive('df-35883bdf-71e3-4d64-b360-619712f42a31')\"\n",
              "              title=\"Convert this dataframe to an interactive table.\"\n",
              "              style=\"display:none;\">\n",
              "        \n",
              "  <svg xmlns=\"http://www.w3.org/2000/svg\" height=\"24px\"viewBox=\"0 0 24 24\"\n",
              "       width=\"24px\">\n",
              "    <path d=\"M0 0h24v24H0V0z\" fill=\"none\"/>\n",
              "    <path d=\"M18.56 5.44l.94 2.06.94-2.06 2.06-.94-2.06-.94-.94-2.06-.94 2.06-2.06.94zm-11 1L8.5 8.5l.94-2.06 2.06-.94-2.06-.94L8.5 2.5l-.94 2.06-2.06.94zm10 10l.94 2.06.94-2.06 2.06-.94-2.06-.94-.94-2.06-.94 2.06-2.06.94z\"/><path d=\"M17.41 7.96l-1.37-1.37c-.4-.4-.92-.59-1.43-.59-.52 0-1.04.2-1.43.59L10.3 9.45l-7.72 7.72c-.78.78-.78 2.05 0 2.83L4 21.41c.39.39.9.59 1.41.59.51 0 1.02-.2 1.41-.59l7.78-7.78 2.81-2.81c.8-.78.8-2.07 0-2.86zM5.41 20L4 18.59l7.72-7.72 1.47 1.35L5.41 20z\"/>\n",
              "  </svg>\n",
              "      </button>\n",
              "      \n",
              "  <style>\n",
              "    .colab-df-container {\n",
              "      display:flex;\n",
              "      flex-wrap:wrap;\n",
              "      gap: 12px;\n",
              "    }\n",
              "\n",
              "    .colab-df-convert {\n",
              "      background-color: #E8F0FE;\n",
              "      border: none;\n",
              "      border-radius: 50%;\n",
              "      cursor: pointer;\n",
              "      display: none;\n",
              "      fill: #1967D2;\n",
              "      height: 32px;\n",
              "      padding: 0 0 0 0;\n",
              "      width: 32px;\n",
              "    }\n",
              "\n",
              "    .colab-df-convert:hover {\n",
              "      background-color: #E2EBFA;\n",
              "      box-shadow: 0px 1px 2px rgba(60, 64, 67, 0.3), 0px 1px 3px 1px rgba(60, 64, 67, 0.15);\n",
              "      fill: #174EA6;\n",
              "    }\n",
              "\n",
              "    [theme=dark] .colab-df-convert {\n",
              "      background-color: #3B4455;\n",
              "      fill: #D2E3FC;\n",
              "    }\n",
              "\n",
              "    [theme=dark] .colab-df-convert:hover {\n",
              "      background-color: #434B5C;\n",
              "      box-shadow: 0px 1px 3px 1px rgba(0, 0, 0, 0.15);\n",
              "      filter: drop-shadow(0px 1px 2px rgba(0, 0, 0, 0.3));\n",
              "      fill: #FFFFFF;\n",
              "    }\n",
              "  </style>\n",
              "\n",
              "      <script>\n",
              "        const buttonEl =\n",
              "          document.querySelector('#df-35883bdf-71e3-4d64-b360-619712f42a31 button.colab-df-convert');\n",
              "        buttonEl.style.display =\n",
              "          google.colab.kernel.accessAllowed ? 'block' : 'none';\n",
              "\n",
              "        async function convertToInteractive(key) {\n",
              "          const element = document.querySelector('#df-35883bdf-71e3-4d64-b360-619712f42a31');\n",
              "          const dataTable =\n",
              "            await google.colab.kernel.invokeFunction('convertToInteractive',\n",
              "                                                     [key], {});\n",
              "          if (!dataTable) return;\n",
              "\n",
              "          const docLinkHtml = 'Like what you see? Visit the ' +\n",
              "            '<a target=\"_blank\" href=https://colab.research.google.com/notebooks/data_table.ipynb>data table notebook</a>'\n",
              "            + ' to learn more about interactive tables.';\n",
              "          element.innerHTML = '';\n",
              "          dataTable['output_type'] = 'display_data';\n",
              "          await google.colab.output.renderOutput(dataTable, element);\n",
              "          const docLink = document.createElement('div');\n",
              "          docLink.innerHTML = docLinkHtml;\n",
              "          element.appendChild(docLink);\n",
              "        }\n",
              "      </script>\n",
              "    </div>\n",
              "  </div>\n",
              "  "
            ]
          },
          "metadata": {},
          "execution_count": 27
        }
      ],
      "source": [
        "account[account.duplicated()]"
      ]
    },
    {
      "cell_type": "code",
      "source": [
        "district[district.duplicated()]"
      ],
      "metadata": {
        "colab": {
          "base_uri": "https://localhost:8080/",
          "height": 49
        },
        "id": "Zb55OEAN9U3a",
        "outputId": "1b87e6df-fcd2-403a-a058-2c4a4e59c61c"
      },
      "execution_count": null,
      "outputs": [
        {
          "output_type": "execute_result",
          "data": {
            "text/plain": [
              "Empty DataFrame\n",
              "Columns: [district_id, district_name, region, population, average_salary, unemployment_rate, num_committed_crimes]\n",
              "Index: []"
            ],
            "text/html": [
              "\n",
              "  <div id=\"df-0f96ba4e-eedf-4bac-b3f6-115133713338\">\n",
              "    <div class=\"colab-df-container\">\n",
              "      <div>\n",
              "<style scoped>\n",
              "    .dataframe tbody tr th:only-of-type {\n",
              "        vertical-align: middle;\n",
              "    }\n",
              "\n",
              "    .dataframe tbody tr th {\n",
              "        vertical-align: top;\n",
              "    }\n",
              "\n",
              "    .dataframe thead th {\n",
              "        text-align: right;\n",
              "    }\n",
              "</style>\n",
              "<table border=\"1\" class=\"dataframe\">\n",
              "  <thead>\n",
              "    <tr style=\"text-align: right;\">\n",
              "      <th></th>\n",
              "      <th>district_id</th>\n",
              "      <th>district_name</th>\n",
              "      <th>region</th>\n",
              "      <th>population</th>\n",
              "      <th>average_salary</th>\n",
              "      <th>unemployment_rate</th>\n",
              "      <th>num_committed_crimes</th>\n",
              "    </tr>\n",
              "  </thead>\n",
              "  <tbody>\n",
              "  </tbody>\n",
              "</table>\n",
              "</div>\n",
              "      <button class=\"colab-df-convert\" onclick=\"convertToInteractive('df-0f96ba4e-eedf-4bac-b3f6-115133713338')\"\n",
              "              title=\"Convert this dataframe to an interactive table.\"\n",
              "              style=\"display:none;\">\n",
              "        \n",
              "  <svg xmlns=\"http://www.w3.org/2000/svg\" height=\"24px\"viewBox=\"0 0 24 24\"\n",
              "       width=\"24px\">\n",
              "    <path d=\"M0 0h24v24H0V0z\" fill=\"none\"/>\n",
              "    <path d=\"M18.56 5.44l.94 2.06.94-2.06 2.06-.94-2.06-.94-.94-2.06-.94 2.06-2.06.94zm-11 1L8.5 8.5l.94-2.06 2.06-.94-2.06-.94L8.5 2.5l-.94 2.06-2.06.94zm10 10l.94 2.06.94-2.06 2.06-.94-2.06-.94-.94-2.06-.94 2.06-2.06.94z\"/><path d=\"M17.41 7.96l-1.37-1.37c-.4-.4-.92-.59-1.43-.59-.52 0-1.04.2-1.43.59L10.3 9.45l-7.72 7.72c-.78.78-.78 2.05 0 2.83L4 21.41c.39.39.9.59 1.41.59.51 0 1.02-.2 1.41-.59l7.78-7.78 2.81-2.81c.8-.78.8-2.07 0-2.86zM5.41 20L4 18.59l7.72-7.72 1.47 1.35L5.41 20z\"/>\n",
              "  </svg>\n",
              "      </button>\n",
              "      \n",
              "  <style>\n",
              "    .colab-df-container {\n",
              "      display:flex;\n",
              "      flex-wrap:wrap;\n",
              "      gap: 12px;\n",
              "    }\n",
              "\n",
              "    .colab-df-convert {\n",
              "      background-color: #E8F0FE;\n",
              "      border: none;\n",
              "      border-radius: 50%;\n",
              "      cursor: pointer;\n",
              "      display: none;\n",
              "      fill: #1967D2;\n",
              "      height: 32px;\n",
              "      padding: 0 0 0 0;\n",
              "      width: 32px;\n",
              "    }\n",
              "\n",
              "    .colab-df-convert:hover {\n",
              "      background-color: #E2EBFA;\n",
              "      box-shadow: 0px 1px 2px rgba(60, 64, 67, 0.3), 0px 1px 3px 1px rgba(60, 64, 67, 0.15);\n",
              "      fill: #174EA6;\n",
              "    }\n",
              "\n",
              "    [theme=dark] .colab-df-convert {\n",
              "      background-color: #3B4455;\n",
              "      fill: #D2E3FC;\n",
              "    }\n",
              "\n",
              "    [theme=dark] .colab-df-convert:hover {\n",
              "      background-color: #434B5C;\n",
              "      box-shadow: 0px 1px 3px 1px rgba(0, 0, 0, 0.15);\n",
              "      filter: drop-shadow(0px 1px 2px rgba(0, 0, 0, 0.3));\n",
              "      fill: #FFFFFF;\n",
              "    }\n",
              "  </style>\n",
              "\n",
              "      <script>\n",
              "        const buttonEl =\n",
              "          document.querySelector('#df-0f96ba4e-eedf-4bac-b3f6-115133713338 button.colab-df-convert');\n",
              "        buttonEl.style.display =\n",
              "          google.colab.kernel.accessAllowed ? 'block' : 'none';\n",
              "\n",
              "        async function convertToInteractive(key) {\n",
              "          const element = document.querySelector('#df-0f96ba4e-eedf-4bac-b3f6-115133713338');\n",
              "          const dataTable =\n",
              "            await google.colab.kernel.invokeFunction('convertToInteractive',\n",
              "                                                     [key], {});\n",
              "          if (!dataTable) return;\n",
              "\n",
              "          const docLinkHtml = 'Like what you see? Visit the ' +\n",
              "            '<a target=\"_blank\" href=https://colab.research.google.com/notebooks/data_table.ipynb>data table notebook</a>'\n",
              "            + ' to learn more about interactive tables.';\n",
              "          element.innerHTML = '';\n",
              "          dataTable['output_type'] = 'display_data';\n",
              "          await google.colab.output.renderOutput(dataTable, element);\n",
              "          const docLink = document.createElement('div');\n",
              "          docLink.innerHTML = docLinkHtml;\n",
              "          element.appendChild(docLink);\n",
              "        }\n",
              "      </script>\n",
              "    </div>\n",
              "  </div>\n",
              "  "
            ]
          },
          "metadata": {},
          "execution_count": 28
        }
      ]
    },
    {
      "cell_type": "code",
      "source": [
        "trans[trans.duplicated()]"
      ],
      "metadata": {
        "colab": {
          "base_uri": "https://localhost:8080/",
          "height": 93
        },
        "id": "JYeAU1Lh9apK",
        "outputId": "4cad4c88-84b4-4c06-af7c-a1f0990b7847"
      },
      "execution_count": null,
      "outputs": [
        {
          "output_type": "execute_result",
          "data": {
            "text/plain": [
              "Empty DataFrame\n",
              "Columns: [trans_id, account_id, date, type, operation_type, amount, balance, description, partner_bank, partner_account]\n",
              "Index: []"
            ],
            "text/html": [
              "\n",
              "  <div id=\"df-5529d975-e7e1-45df-9fb5-a0a78bd3a6f3\">\n",
              "    <div class=\"colab-df-container\">\n",
              "      <div>\n",
              "<style scoped>\n",
              "    .dataframe tbody tr th:only-of-type {\n",
              "        vertical-align: middle;\n",
              "    }\n",
              "\n",
              "    .dataframe tbody tr th {\n",
              "        vertical-align: top;\n",
              "    }\n",
              "\n",
              "    .dataframe thead th {\n",
              "        text-align: right;\n",
              "    }\n",
              "</style>\n",
              "<table border=\"1\" class=\"dataframe\">\n",
              "  <thead>\n",
              "    <tr style=\"text-align: right;\">\n",
              "      <th></th>\n",
              "      <th>trans_id</th>\n",
              "      <th>account_id</th>\n",
              "      <th>date</th>\n",
              "      <th>type</th>\n",
              "      <th>operation_type</th>\n",
              "      <th>amount</th>\n",
              "      <th>balance</th>\n",
              "      <th>description</th>\n",
              "      <th>partner_bank</th>\n",
              "      <th>partner_account</th>\n",
              "    </tr>\n",
              "  </thead>\n",
              "  <tbody>\n",
              "  </tbody>\n",
              "</table>\n",
              "</div>\n",
              "      <button class=\"colab-df-convert\" onclick=\"convertToInteractive('df-5529d975-e7e1-45df-9fb5-a0a78bd3a6f3')\"\n",
              "              title=\"Convert this dataframe to an interactive table.\"\n",
              "              style=\"display:none;\">\n",
              "        \n",
              "  <svg xmlns=\"http://www.w3.org/2000/svg\" height=\"24px\"viewBox=\"0 0 24 24\"\n",
              "       width=\"24px\">\n",
              "    <path d=\"M0 0h24v24H0V0z\" fill=\"none\"/>\n",
              "    <path d=\"M18.56 5.44l.94 2.06.94-2.06 2.06-.94-2.06-.94-.94-2.06-.94 2.06-2.06.94zm-11 1L8.5 8.5l.94-2.06 2.06-.94-2.06-.94L8.5 2.5l-.94 2.06-2.06.94zm10 10l.94 2.06.94-2.06 2.06-.94-2.06-.94-.94-2.06-.94 2.06-2.06.94z\"/><path d=\"M17.41 7.96l-1.37-1.37c-.4-.4-.92-.59-1.43-.59-.52 0-1.04.2-1.43.59L10.3 9.45l-7.72 7.72c-.78.78-.78 2.05 0 2.83L4 21.41c.39.39.9.59 1.41.59.51 0 1.02-.2 1.41-.59l7.78-7.78 2.81-2.81c.8-.78.8-2.07 0-2.86zM5.41 20L4 18.59l7.72-7.72 1.47 1.35L5.41 20z\"/>\n",
              "  </svg>\n",
              "      </button>\n",
              "      \n",
              "  <style>\n",
              "    .colab-df-container {\n",
              "      display:flex;\n",
              "      flex-wrap:wrap;\n",
              "      gap: 12px;\n",
              "    }\n",
              "\n",
              "    .colab-df-convert {\n",
              "      background-color: #E8F0FE;\n",
              "      border: none;\n",
              "      border-radius: 50%;\n",
              "      cursor: pointer;\n",
              "      display: none;\n",
              "      fill: #1967D2;\n",
              "      height: 32px;\n",
              "      padding: 0 0 0 0;\n",
              "      width: 32px;\n",
              "    }\n",
              "\n",
              "    .colab-df-convert:hover {\n",
              "      background-color: #E2EBFA;\n",
              "      box-shadow: 0px 1px 2px rgba(60, 64, 67, 0.3), 0px 1px 3px 1px rgba(60, 64, 67, 0.15);\n",
              "      fill: #174EA6;\n",
              "    }\n",
              "\n",
              "    [theme=dark] .colab-df-convert {\n",
              "      background-color: #3B4455;\n",
              "      fill: #D2E3FC;\n",
              "    }\n",
              "\n",
              "    [theme=dark] .colab-df-convert:hover {\n",
              "      background-color: #434B5C;\n",
              "      box-shadow: 0px 1px 3px 1px rgba(0, 0, 0, 0.15);\n",
              "      filter: drop-shadow(0px 1px 2px rgba(0, 0, 0, 0.3));\n",
              "      fill: #FFFFFF;\n",
              "    }\n",
              "  </style>\n",
              "\n",
              "      <script>\n",
              "        const buttonEl =\n",
              "          document.querySelector('#df-5529d975-e7e1-45df-9fb5-a0a78bd3a6f3 button.colab-df-convert');\n",
              "        buttonEl.style.display =\n",
              "          google.colab.kernel.accessAllowed ? 'block' : 'none';\n",
              "\n",
              "        async function convertToInteractive(key) {\n",
              "          const element = document.querySelector('#df-5529d975-e7e1-45df-9fb5-a0a78bd3a6f3');\n",
              "          const dataTable =\n",
              "            await google.colab.kernel.invokeFunction('convertToInteractive',\n",
              "                                                     [key], {});\n",
              "          if (!dataTable) return;\n",
              "\n",
              "          const docLinkHtml = 'Like what you see? Visit the ' +\n",
              "            '<a target=\"_blank\" href=https://colab.research.google.com/notebooks/data_table.ipynb>data table notebook</a>'\n",
              "            + ' to learn more about interactive tables.';\n",
              "          element.innerHTML = '';\n",
              "          dataTable['output_type'] = 'display_data';\n",
              "          await google.colab.output.renderOutput(dataTable, element);\n",
              "          const docLink = document.createElement('div');\n",
              "          docLink.innerHTML = docLinkHtml;\n",
              "          element.appendChild(docLink);\n",
              "        }\n",
              "      </script>\n",
              "    </div>\n",
              "  </div>\n",
              "  "
            ]
          },
          "metadata": {},
          "execution_count": 29
        }
      ]
    },
    {
      "cell_type": "markdown",
      "metadata": {
        "id": "jQIFsPPn1YWH"
      },
      "source": [
        "### 6. Convert column `account_open_date` in `account` and column `date` in `trans` into datetime dtypes"
      ]
    },
    {
      "cell_type": "code",
      "execution_count": null,
      "metadata": {
        "id": "AEZKdpzx1YWI"
      },
      "outputs": [],
      "source": [
        "account['account_open_date'] = pd.to_datetime(account['account_open_date'])\n",
        "trans['date'] = pd.to_datetime(trans['date'])"
      ]
    },
    {
      "cell_type": "markdown",
      "metadata": {
        "id": "Fbjz17Ey1YWI"
      },
      "source": [
        "### 7. Convert the columns `region` and `district_name` in `district` to all uppercase"
      ]
    },
    {
      "cell_type": "code",
      "execution_count": null,
      "metadata": {
        "colab": {
          "base_uri": "https://localhost:8080/"
        },
        "id": "XEe89VYa1YWI",
        "outputId": "a9877f2c-d851-426a-f0d4-bdade8bcc263"
      },
      "outputs": [
        {
          "output_type": "execute_result",
          "data": {
            "text/plain": [
              "0              PRAGUE\n",
              "1     CENTRAL BOHEMIA\n",
              "2     CENTRAL BOHEMIA\n",
              "3     CENTRAL BOHEMIA\n",
              "4     CENTRAL BOHEMIA\n",
              "           ...       \n",
              "71      NORTH MORAVIA\n",
              "72      NORTH MORAVIA\n",
              "73      NORTH MORAVIA\n",
              "74      NORTH MORAVIA\n",
              "75      NORTH MORAVIA\n",
              "Name: region, Length: 76, dtype: object"
            ]
          },
          "metadata": {},
          "execution_count": 39
        }
      ],
      "source": [
        "district['district_name'] = district['district_name'].str.upper()\n",
        "district['region'].str.upper()"
      ]
    },
    {
      "cell_type": "markdown",
      "metadata": {
        "id": "Bat4Rq751YWJ"
      },
      "source": [
        "### 8. Check for missing data by columns in `account` using the `isna` method"
      ]
    },
    {
      "cell_type": "code",
      "execution_count": null,
      "metadata": {
        "colab": {
          "base_uri": "https://localhost:8080/"
        },
        "id": "TgWBR1dF1YWJ",
        "outputId": "847a3c04-21cf-47a0-d178-4cf8820cbd1e"
      },
      "outputs": [
        {
          "output_type": "execute_result",
          "data": {
            "text/plain": [
              "account_id           0\n",
              "district_id          0\n",
              "frequency            0\n",
              "account_open_date    0\n",
              "client_id            0\n",
              "dtype: int64"
            ]
          },
          "metadata": {},
          "execution_count": 40
        }
      ],
      "source": [
        "account.isna().sum()"
      ]
    },
    {
      "cell_type": "markdown",
      "metadata": {
        "id": "kw_XOte31YWK"
      },
      "source": [
        "### 9. Check for missing data by columns in `district` using the `isna` method"
      ]
    },
    {
      "cell_type": "code",
      "execution_count": null,
      "metadata": {
        "colab": {
          "base_uri": "https://localhost:8080/"
        },
        "id": "auiVFvWz1YWK",
        "outputId": "54469697-1a71-4ee4-b963-0c3f88eacd5e"
      },
      "outputs": [
        {
          "output_type": "execute_result",
          "data": {
            "text/plain": [
              "district_id              0\n",
              "district_name            0\n",
              "region                   0\n",
              "population               0\n",
              "average_salary          10\n",
              "unemployment_rate       10\n",
              "num_committed_crimes     9\n",
              "dtype: int64"
            ]
          },
          "metadata": {},
          "execution_count": 41
        }
      ],
      "source": [
        "district.isna().sum()"
      ]
    },
    {
      "cell_type": "markdown",
      "metadata": {
        "id": "7cn4Wxh91YWK"
      },
      "source": [
        "`district` has numeric features that could have relationships with each other. Let's use iterative imputation on them."
      ]
    },
    {
      "cell_type": "markdown",
      "metadata": {
        "id": "pjgrqYL41YWK"
      },
      "source": [
        "#### Use `IterativeImputer` in `sklearn` to impute based on columns `population`, `average_salary`, `unemployment_rate`, `num_committed_crimes`"
      ]
    },
    {
      "cell_type": "markdown",
      "metadata": {
        "id": "shICpc691YWL"
      },
      "source": [
        "##### Import libraries"
      ]
    },
    {
      "cell_type": "code",
      "execution_count": null,
      "metadata": {
        "id": "y-_QLYdp1YWL"
      },
      "outputs": [],
      "source": [
        "from sklearn.experimental import enable_iterative_imputer\n",
        "from sklearn.impute import IterativeImputer"
      ]
    },
    {
      "cell_type": "markdown",
      "metadata": {
        "id": "LyecYEI91YWL"
      },
      "source": [
        "##### Build a list of columns that will be used for imputation, which are `population`, `average_salary`, `unemployment_rate`, `num_committed_crimes`\n",
        "These are the columns that might be related to each other "
      ]
    },
    {
      "cell_type": "code",
      "execution_count": null,
      "metadata": {
        "id": "UpZ6fiA81YWL"
      },
      "outputs": [],
      "source": [
        "impute_cols = ['average_salary', 'unemployment_rate', 'num_committed_crimes']"
      ]
    },
    {
      "cell_type": "code",
      "source": [
        "district[impute_cols].info()"
      ],
      "metadata": {
        "colab": {
          "base_uri": "https://localhost:8080/"
        },
        "id": "nYIaN7mnEwgC",
        "outputId": "9123e0a4-bfc2-49d8-cf35-dfa021b03943"
      },
      "execution_count": null,
      "outputs": [
        {
          "output_type": "stream",
          "name": "stdout",
          "text": [
            "<class 'pandas.core.frame.DataFrame'>\n",
            "RangeIndex: 76 entries, 0 to 75\n",
            "Data columns (total 3 columns):\n",
            " #   Column                Non-Null Count  Dtype  \n",
            "---  ------                --------------  -----  \n",
            " 0   average_salary        66 non-null     float64\n",
            " 1   unemployment_rate     66 non-null     float64\n",
            " 2   num_committed_crimes  67 non-null     float64\n",
            "dtypes: float64(3)\n",
            "memory usage: 1.9 KB\n"
          ]
        }
      ]
    },
    {
      "cell_type": "markdown",
      "metadata": {
        "id": "yl0vf2ou1YWL"
      },
      "source": [
        "##### Create `IterativeImputer` object and set its `min_value` and `max_value` parameters to be the minumum and maximum of corresponding columns"
      ]
    },
    {
      "cell_type": "code",
      "execution_count": null,
      "metadata": {
        "id": "KqxvAVan1YWM"
      },
      "outputs": [],
      "source": [
        "IterativeImputer = IterativeImputer(min_value=district[impute_cols].min(),max_value=district[impute_cols].max())"
      ]
    },
    {
      "cell_type": "markdown",
      "metadata": {
        "id": "RXHrNTZt1YWM"
      },
      "source": [
        "##### Apply the imputer to fit and transform the columns to an imputed NumPy array"
      ]
    },
    {
      "cell_type": "code",
      "execution_count": null,
      "metadata": {
        "id": "DO-Xdqg01YWM"
      },
      "outputs": [],
      "source": [
        "imputed = IterativeImputer.fit_transform(district[impute_cols])"
      ]
    },
    {
      "cell_type": "markdown",
      "metadata": {
        "id": "24aLJOLp1YWM"
      },
      "source": [
        "##### Assign the imputed array back to the original DataFrame's columns"
      ]
    },
    {
      "cell_type": "code",
      "execution_count": null,
      "metadata": {
        "id": "UnJEF_i91YWM"
      },
      "outputs": [],
      "source": [
        "district[impute_cols] = imputed"
      ]
    },
    {
      "cell_type": "markdown",
      "metadata": {
        "id": "xcH96-cD1YWM"
      },
      "source": [
        "##### Double check that the columns are imputed"
      ]
    },
    {
      "cell_type": "code",
      "execution_count": null,
      "metadata": {
        "colab": {
          "base_uri": "https://localhost:8080/"
        },
        "id": "lJkSRB471YWN",
        "outputId": "f8e67531-abd3-4994-bba0-cd9426268eea"
      },
      "outputs": [
        {
          "output_type": "stream",
          "name": "stdout",
          "text": [
            "<class 'pandas.core.frame.DataFrame'>\n",
            "RangeIndex: 76 entries, 0 to 75\n",
            "Data columns (total 3 columns):\n",
            " #   Column                Non-Null Count  Dtype  \n",
            "---  ------                --------------  -----  \n",
            " 0   average_salary        76 non-null     float64\n",
            " 1   unemployment_rate     76 non-null     float64\n",
            " 2   num_committed_crimes  76 non-null     float64\n",
            "dtypes: float64(3)\n",
            "memory usage: 1.9 KB\n"
          ]
        }
      ],
      "source": [
        "district[impute_cols].info()"
      ]
    },
    {
      "cell_type": "markdown",
      "metadata": {
        "id": "sLItFkMx1YWN"
      },
      "source": [
        "### 10. Check for missing data by columns in `trans` using the `isna` method"
      ]
    },
    {
      "cell_type": "code",
      "execution_count": null,
      "metadata": {
        "colab": {
          "base_uri": "https://localhost:8080/"
        },
        "id": "Jv9SDxf_1YWN",
        "outputId": "d3926385-b655-4926-bd0a-39b5aa3e04df"
      },
      "outputs": [
        {
          "output_type": "execute_result",
          "data": {
            "text/plain": [
              "trans_id               0\n",
              "account_id             1\n",
              "date                   1\n",
              "type                   1\n",
              "operation_type      8306\n",
              "amount                 1\n",
              "balance                1\n",
              "description        23921\n",
              "partner_bank       34874\n",
              "partner_account    34202\n",
              "dtype: int64"
            ]
          },
          "metadata": {},
          "execution_count": 60
        }
      ],
      "source": [
        "trans.isna().sum()"
      ]
    },
    {
      "cell_type": "markdown",
      "metadata": {
        "id": "jSPlPMXb1YWN"
      },
      "source": [
        "#### Divide the columns into numeric columns and categorical columns, then use the `fillna` method to fill numeric columns with -999, fill categorical columns with 'UNKNOWN'"
      ]
    },
    {
      "cell_type": "code",
      "execution_count": null,
      "metadata": {
        "id": "cksmrD0W1YWN"
      },
      "outputs": [],
      "source": [
        "num_cols = trans.select_dtypes(include='number').columns\n",
        "cat_cols = trans.select_dtypes(exclude='number').columns"
      ]
    },
    {
      "cell_type": "code",
      "source": [
        "trans[num_cols] = trans[num_cols].fillna(999)\n",
        "trans[cat_cols] = trans[cat_cols].fillna('UNKNOWN')"
      ],
      "metadata": {
        "id": "QRixLDuLQjGr"
      },
      "execution_count": null,
      "outputs": []
    },
    {
      "cell_type": "markdown",
      "metadata": {
        "id": "nXL4OC3P1YWO"
      },
      "source": [
        "### 11. Check for outliers in `district` using the `describe` method, then look at the histograms of the suspicious columns"
      ]
    },
    {
      "cell_type": "code",
      "execution_count": null,
      "metadata": {
        "colab": {
          "base_uri": "https://localhost:8080/",
          "height": 300
        },
        "id": "EgdmU1q-1YWO",
        "outputId": "e3792f09-dccd-48e8-db0e-a70eac2d465d"
      },
      "outputs": [
        {
          "output_type": "execute_result",
          "data": {
            "text/plain": [
              "       district_id    population  average_salary  unemployment_rate  \\\n",
              "count    76.000000  7.600000e+01       76.000000          76.000000   \n",
              "mean     38.500000  1.336920e+05     8981.098615           3.885484   \n",
              "std      22.083176  1.378127e+05      733.048213           1.729919   \n",
              "min       1.000000  4.282100e+04     8110.000000           0.430000   \n",
              "25%      19.750000  8.472500e+04     8533.750000           2.650000   \n",
              "50%      38.500000  1.083910e+05     8809.745642           3.813405   \n",
              "75%      57.250000  1.382770e+05     9216.500000           4.596664   \n",
              "max      76.000000  1.204953e+06    12541.000000           9.400000   \n",
              "\n",
              "       num_committed_crimes  \n",
              "count             76.000000  \n",
              "mean            5702.916379  \n",
              "std            11664.557347  \n",
              "min              888.000000  \n",
              "25%             2022.500000  \n",
              "50%             2992.500000  \n",
              "75%             4849.250000  \n",
              "max            99107.000000  "
            ],
            "text/html": [
              "\n",
              "  <div id=\"df-14fe2359-d77d-4b82-9401-491c90776784\">\n",
              "    <div class=\"colab-df-container\">\n",
              "      <div>\n",
              "<style scoped>\n",
              "    .dataframe tbody tr th:only-of-type {\n",
              "        vertical-align: middle;\n",
              "    }\n",
              "\n",
              "    .dataframe tbody tr th {\n",
              "        vertical-align: top;\n",
              "    }\n",
              "\n",
              "    .dataframe thead th {\n",
              "        text-align: right;\n",
              "    }\n",
              "</style>\n",
              "<table border=\"1\" class=\"dataframe\">\n",
              "  <thead>\n",
              "    <tr style=\"text-align: right;\">\n",
              "      <th></th>\n",
              "      <th>district_id</th>\n",
              "      <th>population</th>\n",
              "      <th>average_salary</th>\n",
              "      <th>unemployment_rate</th>\n",
              "      <th>num_committed_crimes</th>\n",
              "    </tr>\n",
              "  </thead>\n",
              "  <tbody>\n",
              "    <tr>\n",
              "      <th>count</th>\n",
              "      <td>76.000000</td>\n",
              "      <td>7.600000e+01</td>\n",
              "      <td>76.000000</td>\n",
              "      <td>76.000000</td>\n",
              "      <td>76.000000</td>\n",
              "    </tr>\n",
              "    <tr>\n",
              "      <th>mean</th>\n",
              "      <td>38.500000</td>\n",
              "      <td>1.336920e+05</td>\n",
              "      <td>8981.098615</td>\n",
              "      <td>3.885484</td>\n",
              "      <td>5702.916379</td>\n",
              "    </tr>\n",
              "    <tr>\n",
              "      <th>std</th>\n",
              "      <td>22.083176</td>\n",
              "      <td>1.378127e+05</td>\n",
              "      <td>733.048213</td>\n",
              "      <td>1.729919</td>\n",
              "      <td>11664.557347</td>\n",
              "    </tr>\n",
              "    <tr>\n",
              "      <th>min</th>\n",
              "      <td>1.000000</td>\n",
              "      <td>4.282100e+04</td>\n",
              "      <td>8110.000000</td>\n",
              "      <td>0.430000</td>\n",
              "      <td>888.000000</td>\n",
              "    </tr>\n",
              "    <tr>\n",
              "      <th>25%</th>\n",
              "      <td>19.750000</td>\n",
              "      <td>8.472500e+04</td>\n",
              "      <td>8533.750000</td>\n",
              "      <td>2.650000</td>\n",
              "      <td>2022.500000</td>\n",
              "    </tr>\n",
              "    <tr>\n",
              "      <th>50%</th>\n",
              "      <td>38.500000</td>\n",
              "      <td>1.083910e+05</td>\n",
              "      <td>8809.745642</td>\n",
              "      <td>3.813405</td>\n",
              "      <td>2992.500000</td>\n",
              "    </tr>\n",
              "    <tr>\n",
              "      <th>75%</th>\n",
              "      <td>57.250000</td>\n",
              "      <td>1.382770e+05</td>\n",
              "      <td>9216.500000</td>\n",
              "      <td>4.596664</td>\n",
              "      <td>4849.250000</td>\n",
              "    </tr>\n",
              "    <tr>\n",
              "      <th>max</th>\n",
              "      <td>76.000000</td>\n",
              "      <td>1.204953e+06</td>\n",
              "      <td>12541.000000</td>\n",
              "      <td>9.400000</td>\n",
              "      <td>99107.000000</td>\n",
              "    </tr>\n",
              "  </tbody>\n",
              "</table>\n",
              "</div>\n",
              "      <button class=\"colab-df-convert\" onclick=\"convertToInteractive('df-14fe2359-d77d-4b82-9401-491c90776784')\"\n",
              "              title=\"Convert this dataframe to an interactive table.\"\n",
              "              style=\"display:none;\">\n",
              "        \n",
              "  <svg xmlns=\"http://www.w3.org/2000/svg\" height=\"24px\"viewBox=\"0 0 24 24\"\n",
              "       width=\"24px\">\n",
              "    <path d=\"M0 0h24v24H0V0z\" fill=\"none\"/>\n",
              "    <path d=\"M18.56 5.44l.94 2.06.94-2.06 2.06-.94-2.06-.94-.94-2.06-.94 2.06-2.06.94zm-11 1L8.5 8.5l.94-2.06 2.06-.94-2.06-.94L8.5 2.5l-.94 2.06-2.06.94zm10 10l.94 2.06.94-2.06 2.06-.94-2.06-.94-.94-2.06-.94 2.06-2.06.94z\"/><path d=\"M17.41 7.96l-1.37-1.37c-.4-.4-.92-.59-1.43-.59-.52 0-1.04.2-1.43.59L10.3 9.45l-7.72 7.72c-.78.78-.78 2.05 0 2.83L4 21.41c.39.39.9.59 1.41.59.51 0 1.02-.2 1.41-.59l7.78-7.78 2.81-2.81c.8-.78.8-2.07 0-2.86zM5.41 20L4 18.59l7.72-7.72 1.47 1.35L5.41 20z\"/>\n",
              "  </svg>\n",
              "      </button>\n",
              "      \n",
              "  <style>\n",
              "    .colab-df-container {\n",
              "      display:flex;\n",
              "      flex-wrap:wrap;\n",
              "      gap: 12px;\n",
              "    }\n",
              "\n",
              "    .colab-df-convert {\n",
              "      background-color: #E8F0FE;\n",
              "      border: none;\n",
              "      border-radius: 50%;\n",
              "      cursor: pointer;\n",
              "      display: none;\n",
              "      fill: #1967D2;\n",
              "      height: 32px;\n",
              "      padding: 0 0 0 0;\n",
              "      width: 32px;\n",
              "    }\n",
              "\n",
              "    .colab-df-convert:hover {\n",
              "      background-color: #E2EBFA;\n",
              "      box-shadow: 0px 1px 2px rgba(60, 64, 67, 0.3), 0px 1px 3px 1px rgba(60, 64, 67, 0.15);\n",
              "      fill: #174EA6;\n",
              "    }\n",
              "\n",
              "    [theme=dark] .colab-df-convert {\n",
              "      background-color: #3B4455;\n",
              "      fill: #D2E3FC;\n",
              "    }\n",
              "\n",
              "    [theme=dark] .colab-df-convert:hover {\n",
              "      background-color: #434B5C;\n",
              "      box-shadow: 0px 1px 3px 1px rgba(0, 0, 0, 0.15);\n",
              "      filter: drop-shadow(0px 1px 2px rgba(0, 0, 0, 0.3));\n",
              "      fill: #FFFFFF;\n",
              "    }\n",
              "  </style>\n",
              "\n",
              "      <script>\n",
              "        const buttonEl =\n",
              "          document.querySelector('#df-14fe2359-d77d-4b82-9401-491c90776784 button.colab-df-convert');\n",
              "        buttonEl.style.display =\n",
              "          google.colab.kernel.accessAllowed ? 'block' : 'none';\n",
              "\n",
              "        async function convertToInteractive(key) {\n",
              "          const element = document.querySelector('#df-14fe2359-d77d-4b82-9401-491c90776784');\n",
              "          const dataTable =\n",
              "            await google.colab.kernel.invokeFunction('convertToInteractive',\n",
              "                                                     [key], {});\n",
              "          if (!dataTable) return;\n",
              "\n",
              "          const docLinkHtml = 'Like what you see? Visit the ' +\n",
              "            '<a target=\"_blank\" href=https://colab.research.google.com/notebooks/data_table.ipynb>data table notebook</a>'\n",
              "            + ' to learn more about interactive tables.';\n",
              "          element.innerHTML = '';\n",
              "          dataTable['output_type'] = 'display_data';\n",
              "          await google.colab.output.renderOutput(dataTable, element);\n",
              "          const docLink = document.createElement('div');\n",
              "          docLink.innerHTML = docLinkHtml;\n",
              "          element.appendChild(docLink);\n",
              "        }\n",
              "      </script>\n",
              "    </div>\n",
              "  </div>\n",
              "  "
            ]
          },
          "metadata": {},
          "execution_count": 65
        }
      ],
      "source": [
        "district.describe()"
      ]
    },
    {
      "cell_type": "markdown",
      "metadata": {
        "id": "7_hJO1Pb1YWO"
      },
      "source": [
        "#### Explore the outliers in the dataset"
      ]
    },
    {
      "cell_type": "markdown",
      "source": [
        ""
      ],
      "metadata": {
        "id": "RKTk55giS0DN"
      }
    },
    {
      "cell_type": "code",
      "execution_count": null,
      "metadata": {
        "colab": {
          "base_uri": "https://localhost:8080/",
          "height": 983
        },
        "id": "ktYn9Nmr1YWO",
        "outputId": "4740a95e-b757-4777-ffb5-1a4243514aa7"
      },
      "outputs": [
        {
          "output_type": "execute_result",
          "data": {
            "text/plain": [
              "array([[<matplotlib.axes._subplots.AxesSubplot object at 0x7f12b8bd74d0>,\n",
              "        <matplotlib.axes._subplots.AxesSubplot object at 0x7f12b9330dd0>],\n",
              "       [<matplotlib.axes._subplots.AxesSubplot object at 0x7f12b940ccd0>,\n",
              "        <matplotlib.axes._subplots.AxesSubplot object at 0x7f12b8dd72d0>],\n",
              "       [<matplotlib.axes._subplots.AxesSubplot object at 0x7f12b8c69950>,\n",
              "        <matplotlib.axes._subplots.AxesSubplot object at 0x7f12b8b7aed0>]],\n",
              "      dtype=object)"
            ]
          },
          "metadata": {},
          "execution_count": 68
        },
        {
          "output_type": "display_data",
          "data": {
            "text/plain": [
              "<Figure size 1440x1440 with 6 Axes>"
            ],
            "image/png": "[encoded data removed]"
          },
          "metadata": {
            "needs_background": "light"
          }
        }
      ],
      "source": [
        "district.hist(figsize=(20,20))"
      ]
    },
    {
      "cell_type": "code",
      "source": [
        "district.boxplot(figsize=(20,20))"
      ],
      "metadata": {
        "colab": {
          "base_uri": "https://localhost:8080/",
          "height": 874
        },
        "id": "yz2d0W6rS01F",
        "outputId": "eeb925f3-242d-4993-a3af-9d520d2e459b"
      },
      "execution_count": null,
      "outputs": [
        {
          "output_type": "execute_result",
          "data": {
            "text/plain": [
              "<matplotlib.axes._subplots.AxesSubplot at 0x7f12b7998dd0>"
            ]
          },
          "metadata": {},
          "execution_count": 77
        },
        {
          "output_type": "display_data",
          "data": {
            "text/plain": [
              "<Figure size 1440x1440 with 1 Axes>"
            ],
            "image/png": "[encoded data removed]"
          },
          "metadata": {
            "needs_background": "light"
          }
        }
      ]
    },
    {
      "cell_type": "markdown",
      "metadata": {
        "id": "NgOuUX4a1YWO"
      },
      "source": [
        "### 12. Check for outliers in `trans` using the `describe` method, then look at the histograms of the suspicious columns"
      ]
    },
    {
      "cell_type": "code",
      "execution_count": null,
      "metadata": {
        "colab": {
          "base_uri": "https://localhost:8080/",
          "height": 300
        },
        "id": "2_9IgLUE1YWO",
        "outputId": "5f6c7081-936f-4e9e-ee79-452d71e73fe2"
      },
      "outputs": [
        {
          "output_type": "execute_result",
          "data": {
            "text/plain": [
              "           trans_id    account_id        amount        balance  \\\n",
              "count  4.369100e+04  43691.000000  43691.000000   43691.000000   \n",
              "mean   1.378000e+06   2952.466549   6522.269161   34798.174846   \n",
              "std    1.258121e+06   2529.594701  10043.996194   20608.531372   \n",
              "min    2.760000e+02      2.000000      0.100000   -5446.600000   \n",
              "25%    4.281285e+05   1145.000000    164.550000   21528.400000   \n",
              "50%    8.553940e+05   2423.000000   2280.000000   30111.400000   \n",
              "75%    2.434798e+06   3699.000000   7800.000000   44055.000000   \n",
              "max    3.682925e+06  11320.000000  76500.000000  193909.900000   \n",
              "\n",
              "       partner_account  \n",
              "count     4.369100e+04  \n",
              "mean      9.944467e+06  \n",
              "std       2.356238e+07  \n",
              "min       0.000000e+00  \n",
              "25%       9.990000e+02  \n",
              "50%       9.990000e+02  \n",
              "75%       9.990000e+02  \n",
              "max       9.998564e+07  "
            ],
            "text/html": [
              "\n",
              "  <div id=\"df-7b9ed1d7-35cc-404a-8e14-a9c43ac833f6\">\n",
              "    <div class=\"colab-df-container\">\n",
              "      <div>\n",
              "<style scoped>\n",
              "    .dataframe tbody tr th:only-of-type {\n",
              "        vertical-align: middle;\n",
              "    }\n",
              "\n",
              "    .dataframe tbody tr th {\n",
              "        vertical-align: top;\n",
              "    }\n",
              "\n",
              "    .dataframe thead th {\n",
              "        text-align: right;\n",
              "    }\n",
              "</style>\n",
              "<table border=\"1\" class=\"dataframe\">\n",
              "  <thead>\n",
              "    <tr style=\"text-align: right;\">\n",
              "      <th></th>\n",
              "      <th>trans_id</th>\n",
              "      <th>account_id</th>\n",
              "      <th>amount</th>\n",
              "      <th>balance</th>\n",
              "      <th>partner_account</th>\n",
              "    </tr>\n",
              "  </thead>\n",
              "  <tbody>\n",
              "    <tr>\n",
              "      <th>count</th>\n",
              "      <td>4.369100e+04</td>\n",
              "      <td>43691.000000</td>\n",
              "      <td>43691.000000</td>\n",
              "      <td>43691.000000</td>\n",
              "      <td>4.369100e+04</td>\n",
              "    </tr>\n",
              "    <tr>\n",
              "      <th>mean</th>\n",
              "      <td>1.378000e+06</td>\n",
              "      <td>2952.466549</td>\n",
              "      <td>6522.269161</td>\n",
              "      <td>34798.174846</td>\n",
              "      <td>9.944467e+06</td>\n",
              "    </tr>\n",
              "    <tr>\n",
              "      <th>std</th>\n",
              "      <td>1.258121e+06</td>\n",
              "      <td>2529.594701</td>\n",
              "      <td>10043.996194</td>\n",
              "      <td>20608.531372</td>\n",
              "      <td>2.356238e+07</td>\n",
              "    </tr>\n",
              "    <tr>\n",
              "      <th>min</th>\n",
              "      <td>2.760000e+02</td>\n",
              "      <td>2.000000</td>\n",
              "      <td>0.100000</td>\n",
              "      <td>-5446.600000</td>\n",
              "      <td>0.000000e+00</td>\n",
              "    </tr>\n",
              "    <tr>\n",
              "      <th>25%</th>\n",
              "      <td>4.281285e+05</td>\n",
              "      <td>1145.000000</td>\n",
              "      <td>164.550000</td>\n",
              "      <td>21528.400000</td>\n",
              "      <td>9.990000e+02</td>\n",
              "    </tr>\n",
              "    <tr>\n",
              "      <th>50%</th>\n",
              "      <td>8.553940e+05</td>\n",
              "      <td>2423.000000</td>\n",
              "      <td>2280.000000</td>\n",
              "      <td>30111.400000</td>\n",
              "      <td>9.990000e+02</td>\n",
              "    </tr>\n",
              "    <tr>\n",
              "      <th>75%</th>\n",
              "      <td>2.434798e+06</td>\n",
              "      <td>3699.000000</td>\n",
              "      <td>7800.000000</td>\n",
              "      <td>44055.000000</td>\n",
              "      <td>9.990000e+02</td>\n",
              "    </tr>\n",
              "    <tr>\n",
              "      <th>max</th>\n",
              "      <td>3.682925e+06</td>\n",
              "      <td>11320.000000</td>\n",
              "      <td>76500.000000</td>\n",
              "      <td>193909.900000</td>\n",
              "      <td>9.998564e+07</td>\n",
              "    </tr>\n",
              "  </tbody>\n",
              "</table>\n",
              "</div>\n",
              "      <button class=\"colab-df-convert\" onclick=\"convertToInteractive('df-7b9ed1d7-35cc-404a-8e14-a9c43ac833f6')\"\n",
              "              title=\"Convert this dataframe to an interactive table.\"\n",
              "              style=\"display:none;\">\n",
              "        \n",
              "  <svg xmlns=\"http://www.w3.org/2000/svg\" height=\"24px\"viewBox=\"0 0 24 24\"\n",
              "       width=\"24px\">\n",
              "    <path d=\"M0 0h24v24H0V0z\" fill=\"none\"/>\n",
              "    <path d=\"M18.56 5.44l.94 2.06.94-2.06 2.06-.94-2.06-.94-.94-2.06-.94 2.06-2.06.94zm-11 1L8.5 8.5l.94-2.06 2.06-.94-2.06-.94L8.5 2.5l-.94 2.06-2.06.94zm10 10l.94 2.06.94-2.06 2.06-.94-2.06-.94-.94-2.06-.94 2.06-2.06.94z\"/><path d=\"M17.41 7.96l-1.37-1.37c-.4-.4-.92-.59-1.43-.59-.52 0-1.04.2-1.43.59L10.3 9.45l-7.72 7.72c-.78.78-.78 2.05 0 2.83L4 21.41c.39.39.9.59 1.41.59.51 0 1.02-.2 1.41-.59l7.78-7.78 2.81-2.81c.8-.78.8-2.07 0-2.86zM5.41 20L4 18.59l7.72-7.72 1.47 1.35L5.41 20z\"/>\n",
              "  </svg>\n",
              "      </button>\n",
              "      \n",
              "  <style>\n",
              "    .colab-df-container {\n",
              "      display:flex;\n",
              "      flex-wrap:wrap;\n",
              "      gap: 12px;\n",
              "    }\n",
              "\n",
              "    .colab-df-convert {\n",
              "      background-color: #E8F0FE;\n",
              "      border: none;\n",
              "      border-radius: 50%;\n",
              "      cursor: pointer;\n",
              "      display: none;\n",
              "      fill: #1967D2;\n",
              "      height: 32px;\n",
              "      padding: 0 0 0 0;\n",
              "      width: 32px;\n",
              "    }\n",
              "\n",
              "    .colab-df-convert:hover {\n",
              "      background-color: #E2EBFA;\n",
              "      box-shadow: 0px 1px 2px rgba(60, 64, 67, 0.3), 0px 1px 3px 1px rgba(60, 64, 67, 0.15);\n",
              "      fill: #174EA6;\n",
              "    }\n",
              "\n",
              "    [theme=dark] .colab-df-convert {\n",
              "      background-color: #3B4455;\n",
              "      fill: #D2E3FC;\n",
              "    }\n",
              "\n",
              "    [theme=dark] .colab-df-convert:hover {\n",
              "      background-color: #434B5C;\n",
              "      box-shadow: 0px 1px 3px 1px rgba(0, 0, 0, 0.15);\n",
              "      filter: drop-shadow(0px 1px 2px rgba(0, 0, 0, 0.3));\n",
              "      fill: #FFFFFF;\n",
              "    }\n",
              "  </style>\n",
              "\n",
              "      <script>\n",
              "        const buttonEl =\n",
              "          document.querySelector('#df-7b9ed1d7-35cc-404a-8e14-a9c43ac833f6 button.colab-df-convert');\n",
              "        buttonEl.style.display =\n",
              "          google.colab.kernel.accessAllowed ? 'block' : 'none';\n",
              "\n",
              "        async function convertToInteractive(key) {\n",
              "          const element = document.querySelector('#df-7b9ed1d7-35cc-404a-8e14-a9c43ac833f6');\n",
              "          const dataTable =\n",
              "            await google.colab.kernel.invokeFunction('convertToInteractive',\n",
              "                                                     [key], {});\n",
              "          if (!dataTable) return;\n",
              "\n",
              "          const docLinkHtml = 'Like what you see? Visit the ' +\n",
              "            '<a target=\"_blank\" href=https://colab.research.google.com/notebooks/data_table.ipynb>data table notebook</a>'\n",
              "            + ' to learn more about interactive tables.';\n",
              "          element.innerHTML = '';\n",
              "          dataTable['output_type'] = 'display_data';\n",
              "          await google.colab.output.renderOutput(dataTable, element);\n",
              "          const docLink = document.createElement('div');\n",
              "          docLink.innerHTML = docLinkHtml;\n",
              "          element.appendChild(docLink);\n",
              "        }\n",
              "      </script>\n",
              "    </div>\n",
              "  </div>\n",
              "  "
            ]
          },
          "metadata": {},
          "execution_count": 69
        }
      ],
      "source": [
        "trans.describe()"
      ]
    },
    {
      "cell_type": "markdown",
      "metadata": {
        "id": "4yo_rS9E1YWP"
      },
      "source": [
        "#### Explore the outliers in the dataset"
      ]
    },
    {
      "cell_type": "code",
      "execution_count": null,
      "metadata": {
        "colab": {
          "base_uri": "https://localhost:8080/",
          "height": 972
        },
        "id": "fIorhmvx1YWP",
        "outputId": "ec6cfc1f-f2da-4b73-fcc0-a2504732cf4d"
      },
      "outputs": [
        {
          "output_type": "execute_result",
          "data": {
            "text/plain": [
              "array([[<matplotlib.axes._subplots.AxesSubplot object at 0x7f12b8886a50>,\n",
              "        <matplotlib.axes._subplots.AxesSubplot object at 0x7f12b8894b50>],\n",
              "       [<matplotlib.axes._subplots.AxesSubplot object at 0x7f12b8861c50>,\n",
              "        <matplotlib.axes._subplots.AxesSubplot object at 0x7f12b87a4290>],\n",
              "       [<matplotlib.axes._subplots.AxesSubplot object at 0x7f12b87d8890>,\n",
              "        <matplotlib.axes._subplots.AxesSubplot object at 0x7f12b8790e90>]],\n",
              "      dtype=object)"
            ]
          },
          "metadata": {},
          "execution_count": 70
        },
        {
          "output_type": "display_data",
          "data": {
            "text/plain": [
              "<Figure size 1440x1440 with 6 Axes>"
            ],
            "image/png": "[encoded data removed]"
          },
          "metadata": {
            "needs_background": "light"
          }
        }
      ],
      "source": [
        "trans.hist(figsize=(20,20))"
      ]
    },
    {
      "cell_type": "code",
      "source": [
        "trans.boxplot(figsize=(20,20))"
      ],
      "metadata": {
        "colab": {
          "base_uri": "https://localhost:8080/",
          "height": 874
        },
        "id": "-YOlNkRnSh-2",
        "outputId": "681e9ead-c9ab-49cd-bbc4-1bb264929ca2"
      },
      "execution_count": null,
      "outputs": [
        {
          "output_type": "execute_result",
          "data": {
            "text/plain": [
              "<matplotlib.axes._subplots.AxesSubplot at 0x7f12b88cd7d0>"
            ]
          },
          "metadata": {},
          "execution_count": 75
        },
        {
          "output_type": "display_data",
          "data": {
            "text/plain": [
              "<Figure size 1440x1440 with 1 Axes>"
            ],
            "image/png": "[encoded data removed]"
          },
          "metadata": {
            "needs_background": "light"
          }
        }
      ]
    },
    {
      "cell_type": "markdown",
      "metadata": {
        "id": "JsDcFjGB1YWP"
      },
      "source": [
        "The DataFrame `account` doesn't have any columns that could have outliers, so we are not exploring it."
      ]
    },
    {
      "cell_type": "code",
      "source": [
        "account.describe()"
      ],
      "metadata": {
        "colab": {
          "base_uri": "https://localhost:8080/",
          "height": 300
        },
        "id": "MJOI_rTySFXq",
        "outputId": "7f22f68b-f9e7-40ef-f809-5126b6fab48c"
      },
      "execution_count": null,
      "outputs": [
        {
          "output_type": "execute_result",
          "data": {
            "text/plain": [
              "         account_id  district_id     client_id\n",
              "count   4500.000000  4500.000000   4500.000000\n",
              "mean    2786.067556    37.310444   3381.096444\n",
              "std     2313.811984    25.177217   2839.605215\n",
              "min        1.000000     1.000000      1.000000\n",
              "25%     1182.750000    13.000000   1424.750000\n",
              "50%     2368.000000    38.000000   2861.000000\n",
              "75%     3552.250000    60.000000   4287.250000\n",
              "max    11382.000000    77.000000  13998.000000"
            ],
            "text/html": [
              "\n",
              "  <div id=\"df-e3adb234-88a9-40e4-b4d8-614b36e41111\">\n",
              "    <div class=\"colab-df-container\">\n",
              "      <div>\n",
              "<style scoped>\n",
              "    .dataframe tbody tr th:only-of-type {\n",
              "        vertical-align: middle;\n",
              "    }\n",
              "\n",
              "    .dataframe tbody tr th {\n",
              "        vertical-align: top;\n",
              "    }\n",
              "\n",
              "    .dataframe thead th {\n",
              "        text-align: right;\n",
              "    }\n",
              "</style>\n",
              "<table border=\"1\" class=\"dataframe\">\n",
              "  <thead>\n",
              "    <tr style=\"text-align: right;\">\n",
              "      <th></th>\n",
              "      <th>account_id</th>\n",
              "      <th>district_id</th>\n",
              "      <th>client_id</th>\n",
              "    </tr>\n",
              "  </thead>\n",
              "  <tbody>\n",
              "    <tr>\n",
              "      <th>count</th>\n",
              "      <td>4500.000000</td>\n",
              "      <td>4500.000000</td>\n",
              "      <td>4500.000000</td>\n",
              "    </tr>\n",
              "    <tr>\n",
              "      <th>mean</th>\n",
              "      <td>2786.067556</td>\n",
              "      <td>37.310444</td>\n",
              "      <td>3381.096444</td>\n",
              "    </tr>\n",
              "    <tr>\n",
              "      <th>std</th>\n",
              "      <td>2313.811984</td>\n",
              "      <td>25.177217</td>\n",
              "      <td>2839.605215</td>\n",
              "    </tr>\n",
              "    <tr>\n",
              "      <th>min</th>\n",
              "      <td>1.000000</td>\n",
              "      <td>1.000000</td>\n",
              "      <td>1.000000</td>\n",
              "    </tr>\n",
              "    <tr>\n",
              "      <th>25%</th>\n",
              "      <td>1182.750000</td>\n",
              "      <td>13.000000</td>\n",
              "      <td>1424.750000</td>\n",
              "    </tr>\n",
              "    <tr>\n",
              "      <th>50%</th>\n",
              "      <td>2368.000000</td>\n",
              "      <td>38.000000</td>\n",
              "      <td>2861.000000</td>\n",
              "    </tr>\n",
              "    <tr>\n",
              "      <th>75%</th>\n",
              "      <td>3552.250000</td>\n",
              "      <td>60.000000</td>\n",
              "      <td>4287.250000</td>\n",
              "    </tr>\n",
              "    <tr>\n",
              "      <th>max</th>\n",
              "      <td>11382.000000</td>\n",
              "      <td>77.000000</td>\n",
              "      <td>13998.000000</td>\n",
              "    </tr>\n",
              "  </tbody>\n",
              "</table>\n",
              "</div>\n",
              "      <button class=\"colab-df-convert\" onclick=\"convertToInteractive('df-e3adb234-88a9-40e4-b4d8-614b36e41111')\"\n",
              "              title=\"Convert this dataframe to an interactive table.\"\n",
              "              style=\"display:none;\">\n",
              "        \n",
              "  <svg xmlns=\"http://www.w3.org/2000/svg\" height=\"24px\"viewBox=\"0 0 24 24\"\n",
              "       width=\"24px\">\n",
              "    <path d=\"M0 0h24v24H0V0z\" fill=\"none\"/>\n",
              "    <path d=\"M18.56 5.44l.94 2.06.94-2.06 2.06-.94-2.06-.94-.94-2.06-.94 2.06-2.06.94zm-11 1L8.5 8.5l.94-2.06 2.06-.94-2.06-.94L8.5 2.5l-.94 2.06-2.06.94zm10 10l.94 2.06.94-2.06 2.06-.94-2.06-.94-.94-2.06-.94 2.06-2.06.94z\"/><path d=\"M17.41 7.96l-1.37-1.37c-.4-.4-.92-.59-1.43-.59-.52 0-1.04.2-1.43.59L10.3 9.45l-7.72 7.72c-.78.78-.78 2.05 0 2.83L4 21.41c.39.39.9.59 1.41.59.51 0 1.02-.2 1.41-.59l7.78-7.78 2.81-2.81c.8-.78.8-2.07 0-2.86zM5.41 20L4 18.59l7.72-7.72 1.47 1.35L5.41 20z\"/>\n",
              "  </svg>\n",
              "      </button>\n",
              "      \n",
              "  <style>\n",
              "    .colab-df-container {\n",
              "      display:flex;\n",
              "      flex-wrap:wrap;\n",
              "      gap: 12px;\n",
              "    }\n",
              "\n",
              "    .colab-df-convert {\n",
              "      background-color: #E8F0FE;\n",
              "      border: none;\n",
              "      border-radius: 50%;\n",
              "      cursor: pointer;\n",
              "      display: none;\n",
              "      fill: #1967D2;\n",
              "      height: 32px;\n",
              "      padding: 0 0 0 0;\n",
              "      width: 32px;\n",
              "    }\n",
              "\n",
              "    .colab-df-convert:hover {\n",
              "      background-color: #E2EBFA;\n",
              "      box-shadow: 0px 1px 2px rgba(60, 64, 67, 0.3), 0px 1px 3px 1px rgba(60, 64, 67, 0.15);\n",
              "      fill: #174EA6;\n",
              "    }\n",
              "\n",
              "    [theme=dark] .colab-df-convert {\n",
              "      background-color: #3B4455;\n",
              "      fill: #D2E3FC;\n",
              "    }\n",
              "\n",
              "    [theme=dark] .colab-df-convert:hover {\n",
              "      background-color: #434B5C;\n",
              "      box-shadow: 0px 1px 3px 1px rgba(0, 0, 0, 0.15);\n",
              "      filter: drop-shadow(0px 1px 2px rgba(0, 0, 0, 0.3));\n",
              "      fill: #FFFFFF;\n",
              "    }\n",
              "  </style>\n",
              "\n",
              "      <script>\n",
              "        const buttonEl =\n",
              "          document.querySelector('#df-e3adb234-88a9-40e4-b4d8-614b36e41111 button.colab-df-convert');\n",
              "        buttonEl.style.display =\n",
              "          google.colab.kernel.accessAllowed ? 'block' : 'none';\n",
              "\n",
              "        async function convertToInteractive(key) {\n",
              "          const element = document.querySelector('#df-e3adb234-88a9-40e4-b4d8-614b36e41111');\n",
              "          const dataTable =\n",
              "            await google.colab.kernel.invokeFunction('convertToInteractive',\n",
              "                                                     [key], {});\n",
              "          if (!dataTable) return;\n",
              "\n",
              "          const docLinkHtml = 'Like what you see? Visit the ' +\n",
              "            '<a target=\"_blank\" href=https://colab.research.google.com/notebooks/data_table.ipynb>data table notebook</a>'\n",
              "            + ' to learn more about interactive tables.';\n",
              "          element.innerHTML = '';\n",
              "          dataTable['output_type'] = 'display_data';\n",
              "          await google.colab.output.renderOutput(dataTable, element);\n",
              "          const docLink = document.createElement('div');\n",
              "          docLink.innerHTML = docLinkHtml;\n",
              "          element.appendChild(docLink);\n",
              "        }\n",
              "      </script>\n",
              "    </div>\n",
              "  </div>\n",
              "  "
            ]
          },
          "metadata": {},
          "execution_count": 71
        }
      ]
    },
    {
      "cell_type": "code",
      "source": [
        "account.hist(figsize=(20,20))"
      ],
      "metadata": {
        "colab": {
          "base_uri": "https://localhost:8080/",
          "height": 939
        },
        "id": "zXtdlLQ7SMtT",
        "outputId": "ba1e8e55-8b63-47ba-bd0c-f23fcb394503"
      },
      "execution_count": null,
      "outputs": [
        {
          "output_type": "execute_result",
          "data": {
            "text/plain": [
              "array([[<matplotlib.axes._subplots.AxesSubplot object at 0x7f12b864a890>,\n",
              "        <matplotlib.axes._subplots.AxesSubplot object at 0x7f12b8539910>],\n",
              "       [<matplotlib.axes._subplots.AxesSubplot object at 0x7f12b85004d0>,\n",
              "        <matplotlib.axes._subplots.AxesSubplot object at 0x7f12b84b69d0>]],\n",
              "      dtype=object)"
            ]
          },
          "metadata": {},
          "execution_count": 72
        },
        {
          "output_type": "display_data",
          "data": {
            "text/plain": [
              "<Figure size 1440x1440 with 4 Axes>"
            ],
            "image/png": "[encoded data removed]"
          },
          "metadata": {
            "needs_background": "light"
          }
        }
      ]
    },
    {
      "cell_type": "code",
      "source": [
        "account.boxplot()"
      ],
      "metadata": {
        "colab": {
          "base_uri": "https://localhost:8080/",
          "height": 283
        },
        "id": "4USn4w_WSZeS",
        "outputId": "508e3bd8-32aa-4cb4-ab04-13bfa7a1d5c2"
      },
      "execution_count": null,
      "outputs": [
        {
          "output_type": "execute_result",
          "data": {
            "text/plain": [
              "<matplotlib.axes._subplots.AxesSubplot at 0x7f12b8327710>"
            ]
          },
          "metadata": {},
          "execution_count": 73
        },
        {
          "output_type": "display_data",
          "data": {
            "text/plain": [
              "<Figure size 432x288 with 1 Axes>"
            ],
            "image/png": "[encoded data removed]"
          },
          "metadata": {
            "needs_background": "light"
          }
        }
      ]
    },
    {
      "cell_type": "markdown",
      "metadata": {
        "id": "UvQDwQUg1YWP"
      },
      "source": [
        "### 13. Merge (left join) `account` and `district` into a new DataFrame called `account_district` using their common columns"
      ]
    },
    {
      "cell_type": "code",
      "execution_count": null,
      "metadata": {
        "id": "n_-yvj4X1YWP"
      },
      "outputs": [],
      "source": [
        "account_district = pd.merge(left=account,right=district,how=\"left\",on='district_id')"
      ]
    },
    {
      "cell_type": "markdown",
      "metadata": {
        "id": "ceaPphdl1YWP"
      },
      "source": [
        "### 14. Check the information summary of `account_district`, any missing data?"
      ]
    },
    {
      "cell_type": "code",
      "source": [
        "account_district.info()"
      ],
      "metadata": {
        "colab": {
          "base_uri": "https://localhost:8080/"
        },
        "id": "si7unvV0UO9O",
        "outputId": "2a4fa17d-5ba4-4b63-a979-a751af674387"
      },
      "execution_count": null,
      "outputs": [
        {
          "output_type": "stream",
          "name": "stdout",
          "text": [
            "<class 'pandas.core.frame.DataFrame'>\n",
            "Int64Index: 4500 entries, 0 to 4499\n",
            "Data columns (total 11 columns):\n",
            " #   Column                Non-Null Count  Dtype         \n",
            "---  ------                --------------  -----         \n",
            " 0   account_id            4500 non-null   int64         \n",
            " 1   district_id           4500 non-null   int64         \n",
            " 2   frequency             4500 non-null   object        \n",
            " 3   account_open_date     4500 non-null   datetime64[ns]\n",
            " 4   client_id             4500 non-null   int64         \n",
            " 5   district_name         4460 non-null   object        \n",
            " 6   region                4460 non-null   object        \n",
            " 7   population            4460 non-null   float64       \n",
            " 8   average_salary        4460 non-null   float64       \n",
            " 9   unemployment_rate     4460 non-null   float64       \n",
            " 10  num_committed_crimes  4460 non-null   float64       \n",
            "dtypes: datetime64[ns](1), float64(4), int64(3), object(3)\n",
            "memory usage: 421.9+ KB\n"
          ]
        }
      ]
    },
    {
      "cell_type": "markdown",
      "metadata": {
        "id": "ypIFCABS1YWQ"
      },
      "source": [
        "#### Look at the rows with missing data in `account_district`"
      ]
    },
    {
      "cell_type": "code",
      "execution_count": null,
      "metadata": {
        "colab": {
          "base_uri": "https://localhost:8080/",
          "height": 487
        },
        "id": "RZcI5P0G1YWQ",
        "outputId": "2b7eeac7-753a-4603-b134-30025ea82da3"
      },
      "outputs": [
        {
          "output_type": "execute_result",
          "data": {
            "text/plain": [
              "      account_id  district_id frequency account_open_date  client_id  \\\n",
              "0            NaN          NaN       NaN               NaT        NaN   \n",
              "1            NaN          NaN       NaN               NaT        NaN   \n",
              "2            NaN          NaN       NaN               NaT        NaN   \n",
              "3            NaN          NaN       NaN               NaT        NaN   \n",
              "4            NaN          NaN       NaN               NaT        NaN   \n",
              "...          ...          ...       ...               ...        ...   \n",
              "4495         NaN          NaN       NaN               NaT        NaN   \n",
              "4496         NaN          NaN       NaN               NaT        NaN   \n",
              "4497         NaN          NaN       NaN               NaT        NaN   \n",
              "4498         NaN          NaN       NaN               NaT        NaN   \n",
              "4499         NaN          NaN       NaN               NaT        NaN   \n",
              "\n",
              "     district_name region  population  average_salary  unemployment_rate  \\\n",
              "0              NaN    NaN         NaN             NaN                NaN   \n",
              "1              NaN    NaN         NaN             NaN                NaN   \n",
              "2              NaN    NaN         NaN             NaN                NaN   \n",
              "3              NaN    NaN         NaN             NaN                NaN   \n",
              "4              NaN    NaN         NaN             NaN                NaN   \n",
              "...            ...    ...         ...             ...                ...   \n",
              "4495           NaN    NaN         NaN             NaN                NaN   \n",
              "4496           NaN    NaN         NaN             NaN                NaN   \n",
              "4497           NaN    NaN         NaN             NaN                NaN   \n",
              "4498           NaN    NaN         NaN             NaN                NaN   \n",
              "4499           NaN    NaN         NaN             NaN                NaN   \n",
              "\n",
              "      num_committed_crimes  \n",
              "0                      NaN  \n",
              "1                      NaN  \n",
              "2                      NaN  \n",
              "3                      NaN  \n",
              "4                      NaN  \n",
              "...                    ...  \n",
              "4495                   NaN  \n",
              "4496                   NaN  \n",
              "4497                   NaN  \n",
              "4498                   NaN  \n",
              "4499                   NaN  \n",
              "\n",
              "[4500 rows x 11 columns]"
            ],
            "text/html": [
              "\n",
              "  <div id=\"df-e21c5cda-a95b-4aa9-af88-29d3b8d59c18\">\n",
              "    <div class=\"colab-df-container\">\n",
              "      <div>\n",
              "<style scoped>\n",
              "    .dataframe tbody tr th:only-of-type {\n",
              "        vertical-align: middle;\n",
              "    }\n",
              "\n",
              "    .dataframe tbody tr th {\n",
              "        vertical-align: top;\n",
              "    }\n",
              "\n",
              "    .dataframe thead th {\n",
              "        text-align: right;\n",
              "    }\n",
              "</style>\n",
              "<table border=\"1\" class=\"dataframe\">\n",
              "  <thead>\n",
              "    <tr style=\"text-align: right;\">\n",
              "      <th></th>\n",
              "      <th>account_id</th>\n",
              "      <th>district_id</th>\n",
              "      <th>frequency</th>\n",
              "      <th>account_open_date</th>\n",
              "      <th>client_id</th>\n",
              "      <th>district_name</th>\n",
              "      <th>region</th>\n",
              "      <th>population</th>\n",
              "      <th>average_salary</th>\n",
              "      <th>unemployment_rate</th>\n",
              "      <th>num_committed_crimes</th>\n",
              "    </tr>\n",
              "  </thead>\n",
              "  <tbody>\n",
              "    <tr>\n",
              "      <th>0</th>\n",
              "      <td>NaN</td>\n",
              "      <td>NaN</td>\n",
              "      <td>NaN</td>\n",
              "      <td>NaT</td>\n",
              "      <td>NaN</td>\n",
              "      <td>NaN</td>\n",
              "      <td>NaN</td>\n",
              "      <td>NaN</td>\n",
              "      <td>NaN</td>\n",
              "      <td>NaN</td>\n",
              "      <td>NaN</td>\n",
              "    </tr>\n",
              "    <tr>\n",
              "      <th>1</th>\n",
              "      <td>NaN</td>\n",
              "      <td>NaN</td>\n",
              "      <td>NaN</td>\n",
              "      <td>NaT</td>\n",
              "      <td>NaN</td>\n",
              "      <td>NaN</td>\n",
              "      <td>NaN</td>\n",
              "      <td>NaN</td>\n",
              "      <td>NaN</td>\n",
              "      <td>NaN</td>\n",
              "      <td>NaN</td>\n",
              "    </tr>\n",
              "    <tr>\n",
              "      <th>2</th>\n",
              "      <td>NaN</td>\n",
              "      <td>NaN</td>\n",
              "      <td>NaN</td>\n",
              "      <td>NaT</td>\n",
              "      <td>NaN</td>\n",
              "      <td>NaN</td>\n",
              "      <td>NaN</td>\n",
              "      <td>NaN</td>\n",
              "      <td>NaN</td>\n",
              "      <td>NaN</td>\n",
              "      <td>NaN</td>\n",
              "    </tr>\n",
              "    <tr>\n",
              "      <th>3</th>\n",
              "      <td>NaN</td>\n",
              "      <td>NaN</td>\n",
              "      <td>NaN</td>\n",
              "      <td>NaT</td>\n",
              "      <td>NaN</td>\n",
              "      <td>NaN</td>\n",
              "      <td>NaN</td>\n",
              "      <td>NaN</td>\n",
              "      <td>NaN</td>\n",
              "      <td>NaN</td>\n",
              "      <td>NaN</td>\n",
              "    </tr>\n",
              "    <tr>\n",
              "      <th>4</th>\n",
              "      <td>NaN</td>\n",
              "      <td>NaN</td>\n",
              "      <td>NaN</td>\n",
              "      <td>NaT</td>\n",
              "      <td>NaN</td>\n",
              "      <td>NaN</td>\n",
              "      <td>NaN</td>\n",
              "      <td>NaN</td>\n",
              "      <td>NaN</td>\n",
              "      <td>NaN</td>\n",
              "      <td>NaN</td>\n",
              "    </tr>\n",
              "    <tr>\n",
              "      <th>...</th>\n",
              "      <td>...</td>\n",
              "      <td>...</td>\n",
              "      <td>...</td>\n",
              "      <td>...</td>\n",
              "      <td>...</td>\n",
              "      <td>...</td>\n",
              "      <td>...</td>\n",
              "      <td>...</td>\n",
              "      <td>...</td>\n",
              "      <td>...</td>\n",
              "      <td>...</td>\n",
              "    </tr>\n",
              "    <tr>\n",
              "      <th>4495</th>\n",
              "      <td>NaN</td>\n",
              "      <td>NaN</td>\n",
              "      <td>NaN</td>\n",
              "      <td>NaT</td>\n",
              "      <td>NaN</td>\n",
              "      <td>NaN</td>\n",
              "      <td>NaN</td>\n",
              "      <td>NaN</td>\n",
              "      <td>NaN</td>\n",
              "      <td>NaN</td>\n",
              "      <td>NaN</td>\n",
              "    </tr>\n",
              "    <tr>\n",
              "      <th>4496</th>\n",
              "      <td>NaN</td>\n",
              "      <td>NaN</td>\n",
              "      <td>NaN</td>\n",
              "      <td>NaT</td>\n",
              "      <td>NaN</td>\n",
              "      <td>NaN</td>\n",
              "      <td>NaN</td>\n",
              "      <td>NaN</td>\n",
              "      <td>NaN</td>\n",
              "      <td>NaN</td>\n",
              "      <td>NaN</td>\n",
              "    </tr>\n",
              "    <tr>\n",
              "      <th>4497</th>\n",
              "      <td>NaN</td>\n",
              "      <td>NaN</td>\n",
              "      <td>NaN</td>\n",
              "      <td>NaT</td>\n",
              "      <td>NaN</td>\n",
              "      <td>NaN</td>\n",
              "      <td>NaN</td>\n",
              "      <td>NaN</td>\n",
              "      <td>NaN</td>\n",
              "      <td>NaN</td>\n",
              "      <td>NaN</td>\n",
              "    </tr>\n",
              "    <tr>\n",
              "      <th>4498</th>\n",
              "      <td>NaN</td>\n",
              "      <td>NaN</td>\n",
              "      <td>NaN</td>\n",
              "      <td>NaT</td>\n",
              "      <td>NaN</td>\n",
              "      <td>NaN</td>\n",
              "      <td>NaN</td>\n",
              "      <td>NaN</td>\n",
              "      <td>NaN</td>\n",
              "      <td>NaN</td>\n",
              "      <td>NaN</td>\n",
              "    </tr>\n",
              "    <tr>\n",
              "      <th>4499</th>\n",
              "      <td>NaN</td>\n",
              "      <td>NaN</td>\n",
              "      <td>NaN</td>\n",
              "      <td>NaT</td>\n",
              "      <td>NaN</td>\n",
              "      <td>NaN</td>\n",
              "      <td>NaN</td>\n",
              "      <td>NaN</td>\n",
              "      <td>NaN</td>\n",
              "      <td>NaN</td>\n",
              "      <td>NaN</td>\n",
              "    </tr>\n",
              "  </tbody>\n",
              "</table>\n",
              "<p>4500 rows × 11 columns</p>\n",
              "</div>\n",
              "      <button class=\"colab-df-convert\" onclick=\"convertToInteractive('df-e21c5cda-a95b-4aa9-af88-29d3b8d59c18')\"\n",
              "              title=\"Convert this dataframe to an interactive table.\"\n",
              "              style=\"display:none;\">\n",
              "        \n",
              "  <svg xmlns=\"http://www.w3.org/2000/svg\" height=\"24px\"viewBox=\"0 0 24 24\"\n",
              "       width=\"24px\">\n",
              "    <path d=\"M0 0h24v24H0V0z\" fill=\"none\"/>\n",
              "    <path d=\"M18.56 5.44l.94 2.06.94-2.06 2.06-.94-2.06-.94-.94-2.06-.94 2.06-2.06.94zm-11 1L8.5 8.5l.94-2.06 2.06-.94-2.06-.94L8.5 2.5l-.94 2.06-2.06.94zm10 10l.94 2.06.94-2.06 2.06-.94-2.06-.94-.94-2.06-.94 2.06-2.06.94z\"/><path d=\"M17.41 7.96l-1.37-1.37c-.4-.4-.92-.59-1.43-.59-.52 0-1.04.2-1.43.59L10.3 9.45l-7.72 7.72c-.78.78-.78 2.05 0 2.83L4 21.41c.39.39.9.59 1.41.59.51 0 1.02-.2 1.41-.59l7.78-7.78 2.81-2.81c.8-.78.8-2.07 0-2.86zM5.41 20L4 18.59l7.72-7.72 1.47 1.35L5.41 20z\"/>\n",
              "  </svg>\n",
              "      </button>\n",
              "      \n",
              "  <style>\n",
              "    .colab-df-container {\n",
              "      display:flex;\n",
              "      flex-wrap:wrap;\n",
              "      gap: 12px;\n",
              "    }\n",
              "\n",
              "    .colab-df-convert {\n",
              "      background-color: #E8F0FE;\n",
              "      border: none;\n",
              "      border-radius: 50%;\n",
              "      cursor: pointer;\n",
              "      display: none;\n",
              "      fill: #1967D2;\n",
              "      height: 32px;\n",
              "      padding: 0 0 0 0;\n",
              "      width: 32px;\n",
              "    }\n",
              "\n",
              "    .colab-df-convert:hover {\n",
              "      background-color: #E2EBFA;\n",
              "      box-shadow: 0px 1px 2px rgba(60, 64, 67, 0.3), 0px 1px 3px 1px rgba(60, 64, 67, 0.15);\n",
              "      fill: #174EA6;\n",
              "    }\n",
              "\n",
              "    [theme=dark] .colab-df-convert {\n",
              "      background-color: #3B4455;\n",
              "      fill: #D2E3FC;\n",
              "    }\n",
              "\n",
              "    [theme=dark] .colab-df-convert:hover {\n",
              "      background-color: #434B5C;\n",
              "      box-shadow: 0px 1px 3px 1px rgba(0, 0, 0, 0.15);\n",
              "      filter: drop-shadow(0px 1px 2px rgba(0, 0, 0, 0.3));\n",
              "      fill: #FFFFFF;\n",
              "    }\n",
              "  </style>\n",
              "\n",
              "      <script>\n",
              "        const buttonEl =\n",
              "          document.querySelector('#df-e21c5cda-a95b-4aa9-af88-29d3b8d59c18 button.colab-df-convert');\n",
              "        buttonEl.style.display =\n",
              "          google.colab.kernel.accessAllowed ? 'block' : 'none';\n",
              "\n",
              "        async function convertToInteractive(key) {\n",
              "          const element = document.querySelector('#df-e21c5cda-a95b-4aa9-af88-29d3b8d59c18');\n",
              "          const dataTable =\n",
              "            await google.colab.kernel.invokeFunction('convertToInteractive',\n",
              "                                                     [key], {});\n",
              "          if (!dataTable) return;\n",
              "\n",
              "          const docLinkHtml = 'Like what you see? Visit the ' +\n",
              "            '<a target=\"_blank\" href=https://colab.research.google.com/notebooks/data_table.ipynb>data table notebook</a>'\n",
              "            + ' to learn more about interactive tables.';\n",
              "          element.innerHTML = '';\n",
              "          dataTable['output_type'] = 'display_data';\n",
              "          await google.colab.output.renderOutput(dataTable, element);\n",
              "          const docLink = document.createElement('div');\n",
              "          docLink.innerHTML = docLinkHtml;\n",
              "          element.appendChild(docLink);\n",
              "        }\n",
              "      </script>\n",
              "    </div>\n",
              "  </div>\n",
              "  "
            ]
          },
          "metadata": {},
          "execution_count": 87
        }
      ],
      "source": [
        "account_district[account_district.isna()]"
      ]
    },
    {
      "cell_type": "code",
      "source": [
        "account_district.isna().sum()"
      ],
      "metadata": {
        "colab": {
          "base_uri": "https://localhost:8080/"
        },
        "id": "_KJkN30qU93p",
        "outputId": "6fe540dd-7fbd-46ad-a772-da7725242656"
      },
      "execution_count": null,
      "outputs": [
        {
          "output_type": "execute_result",
          "data": {
            "text/plain": [
              "account_id               0\n",
              "district_id              0\n",
              "frequency                0\n",
              "account_open_date        0\n",
              "client_id                0\n",
              "district_name           40\n",
              "region                  40\n",
              "population              40\n",
              "average_salary          40\n",
              "unemployment_rate       40\n",
              "num_committed_crimes    40\n",
              "dtype: int64"
            ]
          },
          "metadata": {},
          "execution_count": 89
        }
      ]
    },
    {
      "cell_type": "markdown",
      "metadata": {
        "id": "iGKzYyJB1YWQ"
      },
      "source": [
        "#### Use `SimpleImputer` from `sklearn` to impute the missing data in columns `population`, `average_salary`, `unemployment_rate`, `num_committed_crimes` with their means"
      ]
    },
    {
      "cell_type": "code",
      "execution_count": null,
      "metadata": {
        "id": "6dUVSgLJ1YWQ"
      },
      "outputs": [],
      "source": [
        "from sklearn.impute import SimpleImputer"
      ]
    },
    {
      "cell_type": "markdown",
      "source": [
        ""
      ],
      "metadata": {
        "id": "SoMEI0npWMXS"
      }
    },
    {
      "cell_type": "code",
      "source": [
        "SimpleImputer = SimpleImputer(strategy='mean')"
      ],
      "metadata": {
        "id": "jqDPnCMrVZ1i"
      },
      "execution_count": null,
      "outputs": []
    },
    {
      "cell_type": "code",
      "source": [
        "simpleimputed = SimpleImputer.fit_transform(account_district[['population', 'average_salary', 'unemployment_rate', 'num_committed_crimes']])"
      ],
      "metadata": {
        "id": "rg-Kxi0CVhoH"
      },
      "execution_count": null,
      "outputs": []
    },
    {
      "cell_type": "code",
      "source": [
        "account_district[['population', 'average_salary', 'unemployment_rate', 'num_committed_crimes']] = simpleimputed"
      ],
      "metadata": {
        "id": "-fRdcJiaWO5x"
      },
      "execution_count": null,
      "outputs": []
    },
    {
      "cell_type": "markdown",
      "metadata": {
        "id": "GerzqBI11YWQ"
      },
      "source": [
        "#### Use `fillna` method to impute the missing data in columns `district_name` and `region` with 'UNKNOWN'"
      ]
    },
    {
      "cell_type": "code",
      "execution_count": null,
      "metadata": {
        "id": "C6YzAn-c1YWQ"
      },
      "outputs": [],
      "source": [
        "account_district[['district_name','region']] = account_district[['district_name','region']].fillna('UNKNOWN')"
      ]
    },
    {
      "cell_type": "markdown",
      "metadata": {
        "id": "Zo8oukMR1YWR"
      },
      "source": [
        "### 15. Merge (left join) `trans` and `account_district` into a new DataFrame called `all_data` using their common columns"
      ]
    },
    {
      "cell_type": "code",
      "execution_count": null,
      "metadata": {
        "id": "J0_5NiGX1YWR"
      },
      "outputs": [],
      "source": [
        "all_data = pd.merge(left=trans,right=account_district,how='left',on='account_id')"
      ]
    },
    {
      "cell_type": "markdown",
      "metadata": {
        "id": "0DNh-uoK1YWR"
      },
      "source": [
        "#### Check the information summary of `all_data`"
      ]
    },
    {
      "cell_type": "code",
      "execution_count": 100,
      "metadata": {
        "colab": {
          "base_uri": "https://localhost:8080/"
        },
        "id": "SKu-uaXv1YWR",
        "outputId": "ed71df5d-d483-4a0d-e336-47663bfc20c7"
      },
      "outputs": [
        {
          "output_type": "stream",
          "name": "stdout",
          "text": [
            "<class 'pandas.core.frame.DataFrame'>\n",
            "Int64Index: 43691 entries, 0 to 43690\n",
            "Data columns (total 20 columns):\n",
            " #   Column                Non-Null Count  Dtype         \n",
            "---  ------                --------------  -----         \n",
            " 0   trans_id              43691 non-null  int64         \n",
            " 1   account_id            43691 non-null  float64       \n",
            " 2   date                  43691 non-null  object        \n",
            " 3   type                  43691 non-null  object        \n",
            " 4   operation_type        43691 non-null  object        \n",
            " 5   amount                43691 non-null  float64       \n",
            " 6   balance               43691 non-null  float64       \n",
            " 7   description           43691 non-null  object        \n",
            " 8   partner_bank          43691 non-null  object        \n",
            " 9   partner_account       43691 non-null  float64       \n",
            " 10  district_id           43690 non-null  float64       \n",
            " 11  frequency             43690 non-null  object        \n",
            " 12  account_open_date     43690 non-null  datetime64[ns]\n",
            " 13  client_id             43690 non-null  float64       \n",
            " 14  district_name         43690 non-null  object        \n",
            " 15  region                43690 non-null  object        \n",
            " 16  population            43690 non-null  float64       \n",
            " 17  average_salary        43690 non-null  float64       \n",
            " 18  unemployment_rate     43690 non-null  float64       \n",
            " 19  num_committed_crimes  43690 non-null  float64       \n",
            "dtypes: datetime64[ns](1), float64(10), int64(1), object(8)\n",
            "memory usage: 7.0+ MB\n"
          ]
        }
      ],
      "source": [
        "all_data.info()"
      ]
    },
    {
      "cell_type": "code",
      "source": [
        "all_data.isna().sum()"
      ],
      "metadata": {
        "colab": {
          "base_uri": "https://localhost:8080/"
        },
        "id": "eY0ulYHAXtW8",
        "outputId": "5dba5b8c-ba22-4f0e-b8a4-c80d31237600"
      },
      "execution_count": 101,
      "outputs": [
        {
          "output_type": "execute_result",
          "data": {
            "text/plain": [
              "trans_id                0\n",
              "account_id              0\n",
              "date                    0\n",
              "type                    0\n",
              "operation_type          0\n",
              "amount                  0\n",
              "balance                 0\n",
              "description             0\n",
              "partner_bank            0\n",
              "partner_account         0\n",
              "district_id             1\n",
              "frequency               1\n",
              "account_open_date       1\n",
              "client_id               1\n",
              "district_name           1\n",
              "region                  1\n",
              "population              1\n",
              "average_salary          1\n",
              "unemployment_rate       1\n",
              "num_committed_crimes    1\n",
              "dtype: int64"
            ]
          },
          "metadata": {},
          "execution_count": 101
        }
      ]
    },
    {
      "cell_type": "markdown",
      "metadata": {
        "id": "QYk0qeaV1YWR"
      },
      "source": [
        "### 16. Create a new column `account_open_year` and assign it as the year from column `account_open_date`"
      ]
    },
    {
      "cell_type": "code",
      "execution_count": 105,
      "metadata": {
        "id": "7jFWOD1K1YWR"
      },
      "outputs": [],
      "source": [
        "all_data['account_open_year'] = all_data['account_open_date'].dt.year"
      ]
    },
    {
      "cell_type": "markdown",
      "metadata": {
        "id": "Y6tdH-Ql1YWR"
      },
      "source": [
        "### 17. Calculate the difference between columns `date` (transaction date) and `account_open_date`"
      ]
    },
    {
      "cell_type": "code",
      "execution_count": 114,
      "metadata": {
        "id": "RJPPpXWi1YWR"
      },
      "outputs": [],
      "source": [
        "all_data = all_data.dropna()"
      ]
    },
    {
      "cell_type": "code",
      "source": [
        "all_data['date'] = pd.to_datetime(all_data['date'])"
      ],
      "metadata": {
        "id": "bEM92d-NZ611"
      },
      "execution_count": 122,
      "outputs": []
    },
    {
      "cell_type": "code",
      "source": [
        "all_data['date']-all_data['account_open_date']"
      ],
      "metadata": {
        "colab": {
          "base_uri": "https://localhost:8080/"
        },
        "id": "L-MzyGO4ZKrN",
        "outputId": "d98b1975-ab94-4439-9abf-9db1e9be5080"
      },
      "execution_count": 123,
      "outputs": [
        {
          "output_type": "execute_result",
          "data": {
            "text/plain": [
              "0         0 days\n",
              "1         0 days\n",
              "2         0 days\n",
              "3         0 days\n",
              "4         0 days\n",
              "          ...   \n",
              "43685   233 days\n",
              "43686   178 days\n",
              "43687   242 days\n",
              "43688   421 days\n",
              "43689   273 days\n",
              "Length: 43690, dtype: timedelta64[ns]"
            ]
          },
          "metadata": {},
          "execution_count": 123
        }
      ]
    },
    {
      "cell_type": "markdown",
      "metadata": {
        "id": "DkVwzXv61YWS"
      },
      "source": [
        "### 18. Create a new column `account_age_days` and assign it as the difference in days between columns `date` (transaction date) and `account_open_date`"
      ]
    },
    {
      "cell_type": "code",
      "execution_count": 124,
      "metadata": {
        "id": "fYsucDdw1YWS"
      },
      "outputs": [],
      "source": [
        "all_data['account_age_days'] = all_data['date']-all_data['account_open_date']"
      ]
    },
    {
      "cell_type": "markdown",
      "metadata": {
        "id": "LyIX4__F1YWS"
      },
      "source": [
        "### 19. Create a new column `amount_category` by cutting the column `amount` into 3 equal-sized bins, and label the bins as 'low_amount', 'medium_amount', 'high_amount'"
      ]
    },
    {
      "cell_type": "code",
      "execution_count": 126,
      "metadata": {
        "id": "4Y57Iora1YWS"
      },
      "outputs": [],
      "source": [
        "all_data['amount_category'] = pd.qcut(all_data['amount'],3,labels=['low_amount', 'medium_amount', 'high_amount'])"
      ]
    },
    {
      "cell_type": "markdown",
      "metadata": {
        "id": "SR_nc1Ih1YWS"
      },
      "source": [
        "#### Verify the categories and their counts in `amount_category`"
      ]
    },
    {
      "cell_type": "code",
      "execution_count": 127,
      "metadata": {
        "id": "s8_SYkn01YWS",
        "colab": {
          "base_uri": "https://localhost:8080/"
        },
        "outputId": "581af0bb-8c3c-4c63-ea64-fc229016195b"
      },
      "outputs": [
        {
          "output_type": "execute_result",
          "data": {
            "text/plain": [
              "low_amount       14575\n",
              "high_amount      14562\n",
              "medium_amount    14553\n",
              "Name: amount_category, dtype: int64"
            ]
          },
          "metadata": {},
          "execution_count": 127
        }
      ],
      "source": [
        "all_data['amount_category'].value_counts()"
      ]
    },
    {
      "cell_type": "code",
      "source": [
        "all_data[['amount','amount_category']]"
      ],
      "metadata": {
        "colab": {
          "base_uri": "https://localhost:8080/",
          "height": 423
        },
        "id": "hvE9fpLnbQXA",
        "outputId": "08ccfc8a-2ab1-4e71-ded0-3b34f79ffbff"
      },
      "execution_count": 131,
      "outputs": [
        {
          "output_type": "execute_result",
          "data": {
            "text/plain": [
              "        amount amount_category\n",
              "0        700.0   medium_amount\n",
              "1        900.0   medium_amount\n",
              "2       1000.0   medium_amount\n",
              "3        600.0   medium_amount\n",
              "4        400.0      low_amount\n",
              "...        ...             ...\n",
              "43685   4543.0   medium_amount\n",
              "43686   6891.0     high_amount\n",
              "43687   4375.0   medium_amount\n",
              "43688   6689.0     high_amount\n",
              "43689  23728.0     high_amount\n",
              "\n",
              "[43690 rows x 2 columns]"
            ],
            "text/html": [
              "\n",
              "  <div id=\"df-246c74e8-f85b-4faa-95d5-dd81ac6f64d3\">\n",
              "    <div class=\"colab-df-container\">\n",
              "      <div>\n",
              "<style scoped>\n",
              "    .dataframe tbody tr th:only-of-type {\n",
              "        vertical-align: middle;\n",
              "    }\n",
              "\n",
              "    .dataframe tbody tr th {\n",
              "        vertical-align: top;\n",
              "    }\n",
              "\n",
              "    .dataframe thead th {\n",
              "        text-align: right;\n",
              "    }\n",
              "</style>\n",
              "<table border=\"1\" class=\"dataframe\">\n",
              "  <thead>\n",
              "    <tr style=\"text-align: right;\">\n",
              "      <th></th>\n",
              "      <th>amount</th>\n",
              "      <th>amount_category</th>\n",
              "    </tr>\n",
              "  </thead>\n",
              "  <tbody>\n",
              "    <tr>\n",
              "      <th>0</th>\n",
              "      <td>700.0</td>\n",
              "      <td>medium_amount</td>\n",
              "    </tr>\n",
              "    <tr>\n",
              "      <th>1</th>\n",
              "      <td>900.0</td>\n",
              "      <td>medium_amount</td>\n",
              "    </tr>\n",
              "    <tr>\n",
              "      <th>2</th>\n",
              "      <td>1000.0</td>\n",
              "      <td>medium_amount</td>\n",
              "    </tr>\n",
              "    <tr>\n",
              "      <th>3</th>\n",
              "      <td>600.0</td>\n",
              "      <td>medium_amount</td>\n",
              "    </tr>\n",
              "    <tr>\n",
              "      <th>4</th>\n",
              "      <td>400.0</td>\n",
              "      <td>low_amount</td>\n",
              "    </tr>\n",
              "    <tr>\n",
              "      <th>...</th>\n",
              "      <td>...</td>\n",
              "      <td>...</td>\n",
              "    </tr>\n",
              "    <tr>\n",
              "      <th>43685</th>\n",
              "      <td>4543.0</td>\n",
              "      <td>medium_amount</td>\n",
              "    </tr>\n",
              "    <tr>\n",
              "      <th>43686</th>\n",
              "      <td>6891.0</td>\n",
              "      <td>high_amount</td>\n",
              "    </tr>\n",
              "    <tr>\n",
              "      <th>43687</th>\n",
              "      <td>4375.0</td>\n",
              "      <td>medium_amount</td>\n",
              "    </tr>\n",
              "    <tr>\n",
              "      <th>43688</th>\n",
              "      <td>6689.0</td>\n",
              "      <td>high_amount</td>\n",
              "    </tr>\n",
              "    <tr>\n",
              "      <th>43689</th>\n",
              "      <td>23728.0</td>\n",
              "      <td>high_amount</td>\n",
              "    </tr>\n",
              "  </tbody>\n",
              "</table>\n",
              "<p>43690 rows × 2 columns</p>\n",
              "</div>\n",
              "      <button class=\"colab-df-convert\" onclick=\"convertToInteractive('df-246c74e8-f85b-4faa-95d5-dd81ac6f64d3')\"\n",
              "              title=\"Convert this dataframe to an interactive table.\"\n",
              "              style=\"display:none;\">\n",
              "        \n",
              "  <svg xmlns=\"http://www.w3.org/2000/svg\" height=\"24px\"viewBox=\"0 0 24 24\"\n",
              "       width=\"24px\">\n",
              "    <path d=\"M0 0h24v24H0V0z\" fill=\"none\"/>\n",
              "    <path d=\"M18.56 5.44l.94 2.06.94-2.06 2.06-.94-2.06-.94-.94-2.06-.94 2.06-2.06.94zm-11 1L8.5 8.5l.94-2.06 2.06-.94-2.06-.94L8.5 2.5l-.94 2.06-2.06.94zm10 10l.94 2.06.94-2.06 2.06-.94-2.06-.94-.94-2.06-.94 2.06-2.06.94z\"/><path d=\"M17.41 7.96l-1.37-1.37c-.4-.4-.92-.59-1.43-.59-.52 0-1.04.2-1.43.59L10.3 9.45l-7.72 7.72c-.78.78-.78 2.05 0 2.83L4 21.41c.39.39.9.59 1.41.59.51 0 1.02-.2 1.41-.59l7.78-7.78 2.81-2.81c.8-.78.8-2.07 0-2.86zM5.41 20L4 18.59l7.72-7.72 1.47 1.35L5.41 20z\"/>\n",
              "  </svg>\n",
              "      </button>\n",
              "      \n",
              "  <style>\n",
              "    .colab-df-container {\n",
              "      display:flex;\n",
              "      flex-wrap:wrap;\n",
              "      gap: 12px;\n",
              "    }\n",
              "\n",
              "    .colab-df-convert {\n",
              "      background-color: #E8F0FE;\n",
              "      border: none;\n",
              "      border-radius: 50%;\n",
              "      cursor: pointer;\n",
              "      display: none;\n",
              "      fill: #1967D2;\n",
              "      height: 32px;\n",
              "      padding: 0 0 0 0;\n",
              "      width: 32px;\n",
              "    }\n",
              "\n",
              "    .colab-df-convert:hover {\n",
              "      background-color: #E2EBFA;\n",
              "      box-shadow: 0px 1px 2px rgba(60, 64, 67, 0.3), 0px 1px 3px 1px rgba(60, 64, 67, 0.15);\n",
              "      fill: #174EA6;\n",
              "    }\n",
              "\n",
              "    [theme=dark] .colab-df-convert {\n",
              "      background-color: #3B4455;\n",
              "      fill: #D2E3FC;\n",
              "    }\n",
              "\n",
              "    [theme=dark] .colab-df-convert:hover {\n",
              "      background-color: #434B5C;\n",
              "      box-shadow: 0px 1px 3px 1px rgba(0, 0, 0, 0.15);\n",
              "      filter: drop-shadow(0px 1px 2px rgba(0, 0, 0, 0.3));\n",
              "      fill: #FFFFFF;\n",
              "    }\n",
              "  </style>\n",
              "\n",
              "      <script>\n",
              "        const buttonEl =\n",
              "          document.querySelector('#df-246c74e8-f85b-4faa-95d5-dd81ac6f64d3 button.colab-df-convert');\n",
              "        buttonEl.style.display =\n",
              "          google.colab.kernel.accessAllowed ? 'block' : 'none';\n",
              "\n",
              "        async function convertToInteractive(key) {\n",
              "          const element = document.querySelector('#df-246c74e8-f85b-4faa-95d5-dd81ac6f64d3');\n",
              "          const dataTable =\n",
              "            await google.colab.kernel.invokeFunction('convertToInteractive',\n",
              "                                                     [key], {});\n",
              "          if (!dataTable) return;\n",
              "\n",
              "          const docLinkHtml = 'Like what you see? Visit the ' +\n",
              "            '<a target=\"_blank\" href=https://colab.research.google.com/notebooks/data_table.ipynb>data table notebook</a>'\n",
              "            + ' to learn more about interactive tables.';\n",
              "          element.innerHTML = '';\n",
              "          dataTable['output_type'] = 'display_data';\n",
              "          await google.colab.output.renderOutput(dataTable, element);\n",
              "          const docLink = document.createElement('div');\n",
              "          docLink.innerHTML = docLinkHtml;\n",
              "          element.appendChild(docLink);\n",
              "        }\n",
              "      </script>\n",
              "    </div>\n",
              "  </div>\n",
              "  "
            ]
          },
          "metadata": {},
          "execution_count": 131
        }
      ]
    },
    {
      "cell_type": "markdown",
      "metadata": {
        "id": "7R9MOT6i1YWS"
      },
      "source": [
        "### 20. Create a new column `account_age_days_category` by cutting the column `account_age_days` into 5 equal-width bins"
      ]
    },
    {
      "cell_type": "code",
      "execution_count": 133,
      "metadata": {
        "id": "AOn0wEvF1YWS"
      },
      "outputs": [],
      "source": [
        "all_data['account_age_days_category'] = pd.cut(all_data['account_age_days'],bins=5)"
      ]
    },
    {
      "cell_type": "markdown",
      "metadata": {
        "id": "kBfRJIIu1YWT"
      },
      "source": [
        "#### Verify the categories and their counts in `account_age_days_category`"
      ]
    },
    {
      "cell_type": "code",
      "execution_count": 134,
      "metadata": {
        "id": "XuWuZn4f1YWT",
        "colab": {
          "base_uri": "https://localhost:8080/"
        },
        "outputId": "1bf96351-3098-42b9-ad42-a79f22ce4e75"
      },
      "outputs": [
        {
          "output_type": "execute_result",
          "data": {
            "text/plain": [
              "(171 days 04:48:00, 256 days 19:12:00]          12342\n",
              "(85 days 14:24:00, 171 days 04:48:00]           11408\n",
              "(-1 days +13:43:40.800000, 85 days 14:24:00]     8652\n",
              "(256 days 19:12:00, 342 days 09:36:00]           8298\n",
              "(342 days 09:36:00, 428 days 00:00:00]           2990\n",
              "Name: account_age_days_category, dtype: int64"
            ]
          },
          "metadata": {},
          "execution_count": 134
        }
      ],
      "source": [
        "all_data['account_age_days_category'].value_counts()"
      ]
    },
    {
      "cell_type": "markdown",
      "metadata": {
        "id": "ml9_WL9K1YWT"
      },
      "source": [
        "#### Print out the first 20 rows of `all_data` to look at the newly added columns"
      ]
    },
    {
      "cell_type": "code",
      "execution_count": 135,
      "metadata": {
        "id": "XBYBH6ck1YWT",
        "colab": {
          "base_uri": "https://localhost:8080/",
          "height": 1000
        },
        "outputId": "65aeb645-14f2-4b7b-e806-3f473599e5a9"
      },
      "outputs": [
        {
          "output_type": "execute_result",
          "data": {
            "text/plain": [
              "    trans_id  account_id       date    type                operation_type  \\\n",
              "0     695247      2378.0 1993-01-01  CREDIT                CREDIT IN CASH   \n",
              "1     171812       576.0 1993-01-01  CREDIT                CREDIT IN CASH   \n",
              "2     207264       704.0 1993-01-01  CREDIT                CREDIT IN CASH   \n",
              "3    1117247      3818.0 1993-01-01  CREDIT                CREDIT IN CASH   \n",
              "4     579373      1972.0 1993-01-02  CREDIT                CREDIT IN CASH   \n",
              "5     771035      2632.0 1993-01-02  CREDIT                CREDIT IN CASH   \n",
              "6     452728      1539.0 1993-01-03  CREDIT                CREDIT IN CASH   \n",
              "7     725751      2484.0 1993-01-03  CREDIT                CREDIT IN CASH   \n",
              "8     497211      1695.0 1993-01-03  CREDIT                CREDIT IN CASH   \n",
              "9     232960       793.0 1993-01-03  CREDIT                CREDIT IN CASH   \n",
              "10    505240      1726.0 1993-01-03  CREDIT                CREDIT IN CASH   \n",
              "11    144541       485.0 1993-01-04  CREDIT                CREDIT IN CASH   \n",
              "12    637741      2177.0 1993-01-04  CREDIT                CREDIT IN CASH   \n",
              "13    689827      2357.0 1993-01-04  CREDIT                CREDIT IN CASH   \n",
              "14    846006      2881.0 1993-01-04  CREDIT                CREDIT IN CASH   \n",
              "15    637742      2177.0 1993-01-05  CREDIT  COLLECTION FROM ANOTHER BANK   \n",
              "16   2908688      9635.0 1993-01-05  CREDIT                CREDIT IN CASH   \n",
              "17    232961       793.0 1993-01-05  CREDIT  COLLECTION FROM ANOTHER BANK   \n",
              "18    192096       652.0 1993-01-05  CREDIT                CREDIT IN CASH   \n",
              "19    542215      1844.0 1993-01-06  CREDIT                CREDIT IN CASH   \n",
              "\n",
              "    amount  balance description partner_bank  partner_account  ...  \\\n",
              "0    700.0    700.0     UNKNOWN      UNKNOWN            999.0  ...   \n",
              "1    900.0    900.0     UNKNOWN      UNKNOWN            999.0  ...   \n",
              "2   1000.0   1000.0     UNKNOWN      UNKNOWN            999.0  ...   \n",
              "3    600.0    600.0     UNKNOWN      UNKNOWN            999.0  ...   \n",
              "4    400.0    400.0     UNKNOWN      UNKNOWN            999.0  ...   \n",
              "5   1100.0   1100.0     UNKNOWN      UNKNOWN            999.0  ...   \n",
              "6    600.0    600.0     UNKNOWN      UNKNOWN            999.0  ...   \n",
              "7   1100.0   1100.0     UNKNOWN      UNKNOWN            999.0  ...   \n",
              "8    200.0    200.0     UNKNOWN      UNKNOWN            999.0  ...   \n",
              "9    800.0    800.0     UNKNOWN      UNKNOWN            999.0  ...   \n",
              "10  1000.0   1000.0     UNKNOWN      UNKNOWN            999.0  ...   \n",
              "11   300.0    300.0     UNKNOWN      UNKNOWN            999.0  ...   \n",
              "12   800.0    800.0     UNKNOWN      UNKNOWN            999.0  ...   \n",
              "13   800.0    800.0     UNKNOWN      UNKNOWN            999.0  ...   \n",
              "14   700.0    700.0     UNKNOWN      UNKNOWN            999.0  ...   \n",
              "15  5123.0   5923.0     PENSION           YZ       62457513.0  ...   \n",
              "16   400.0    400.0     UNKNOWN      UNKNOWN            999.0  ...   \n",
              "17  3401.0   4201.0     UNKNOWN           IJ        6149286.0  ...   \n",
              "18   700.0    700.0     UNKNOWN      UNKNOWN            999.0  ...   \n",
              "19   500.0    500.0     UNKNOWN      UNKNOWN            999.0  ...   \n",
              "\n",
              "          district_name           region    population  average_salary  \\\n",
              "0     Jindrichuv Hradec    south Bohemia  9.393100e+04     8427.000000   \n",
              "1         Brno - venkov    south Moravia  1.570420e+05     8898.026793   \n",
              "2         Brno - venkov    south Moravia  1.570420e+05     8898.026793   \n",
              "3       Ostrava - mesto    north Moravia  3.238700e+05    10673.000000   \n",
              "4               UNKNOWN          UNKNOWN  2.703257e+05     9471.092308   \n",
              "5          Karlovy Vary     west Bohemia  1.226030e+05     8991.000000   \n",
              "6           Hl.m. Praha           Prague  1.204953e+06    12541.000000   \n",
              "7       Ostrava - mesto    north Moravia  3.238700e+05    10673.000000   \n",
              "8               Sumperk    north Moravia  1.273690e+05     8369.000000   \n",
              "9             Pardubice     east Bohemia  1.625800e+05     9538.000000   \n",
              "10  Rychnov nad Kneznou     east Bohemia  7.895500e+04     9060.000000   \n",
              "11           Kutna Hora  central Bohemia  7.796300e+04     8546.000000   \n",
              "12     Uherske Hradiste    south Moravia  1.456880e+05     8544.000000   \n",
              "13           Prachatice    south Bohemia  5.142800e+04     8402.000000   \n",
              "14              Karvina    north Moravia  2.853870e+05    10177.000000   \n",
              "15     Uherske Hradiste    south Moravia  1.456880e+05     8544.000000   \n",
              "16              Karvina    north Moravia  2.853870e+05    10177.000000   \n",
              "17            Pardubice     east Bohemia  1.625800e+05     9538.000000   \n",
              "18                Tabor    south Bohemia  1.033470e+05     9104.000000   \n",
              "19              Chrudim     east Bohemia  1.056060e+05     8254.000000   \n",
              "\n",
              "   unemployment_rate num_committed_crimes  account_open_year  \\\n",
              "0           1.540000          1913.000000             1993.0   \n",
              "1           2.430000          3894.000000             1993.0   \n",
              "2           2.430000          3894.000000             1993.0   \n",
              "3           5.440000         18347.000000             1993.0   \n",
              "4           3.586284         17052.157823             1993.0   \n",
              "5           2.010000          5273.000000             1993.0   \n",
              "6           0.430000         99107.000000             1993.0   \n",
              "7           5.440000         18347.000000             1993.0   \n",
              "8           3.515437          2807.000000             1993.0   \n",
              "9           4.424919          5410.000000             1993.0   \n",
              "10          2.440000          1717.000000             1993.0   \n",
              "11          4.020000          3120.000000             1993.0   \n",
              "12          1.860000          2906.000000             1993.0   \n",
              "13          3.980000          1099.000000             1993.0   \n",
              "14          7.750000         10108.000000             1993.0   \n",
              "15          1.860000          2906.000000             1993.0   \n",
              "16          7.750000         10108.000000             1993.0   \n",
              "17          4.424919          5410.000000             1993.0   \n",
              "18          2.070000          2354.000000             1993.0   \n",
              "19          3.760000          2325.000000             1993.0   \n",
              "\n",
              "    account_age_days  amount_category  \\\n",
              "0             0 days    medium_amount   \n",
              "1             0 days    medium_amount   \n",
              "2             0 days    medium_amount   \n",
              "3             0 days    medium_amount   \n",
              "4             0 days       low_amount   \n",
              "5             0 days    medium_amount   \n",
              "6             0 days    medium_amount   \n",
              "7             0 days    medium_amount   \n",
              "8             0 days       low_amount   \n",
              "9             0 days    medium_amount   \n",
              "10            0 days    medium_amount   \n",
              "11            0 days       low_amount   \n",
              "12            0 days    medium_amount   \n",
              "13            0 days    medium_amount   \n",
              "14            0 days    medium_amount   \n",
              "15            1 days    medium_amount   \n",
              "16            0 days       low_amount   \n",
              "17            2 days    medium_amount   \n",
              "18            0 days    medium_amount   \n",
              "19            0 days    medium_amount   \n",
              "\n",
              "                       account_age_days_category  \n",
              "0   (-1 days +13:43:40.800000, 85 days 14:24:00]  \n",
              "1   (-1 days +13:43:40.800000, 85 days 14:24:00]  \n",
              "2   (-1 days +13:43:40.800000, 85 days 14:24:00]  \n",
              "3   (-1 days +13:43:40.800000, 85 days 14:24:00]  \n",
              "4   (-1 days +13:43:40.800000, 85 days 14:24:00]  \n",
              "5   (-1 days +13:43:40.800000, 85 days 14:24:00]  \n",
              "6   (-1 days +13:43:40.800000, 85 days 14:24:00]  \n",
              "7   (-1 days +13:43:40.800000, 85 days 14:24:00]  \n",
              "8   (-1 days +13:43:40.800000, 85 days 14:24:00]  \n",
              "9   (-1 days +13:43:40.800000, 85 days 14:24:00]  \n",
              "10  (-1 days +13:43:40.800000, 85 days 14:24:00]  \n",
              "11  (-1 days +13:43:40.800000, 85 days 14:24:00]  \n",
              "12  (-1 days +13:43:40.800000, 85 days 14:24:00]  \n",
              "13  (-1 days +13:43:40.800000, 85 days 14:24:00]  \n",
              "14  (-1 days +13:43:40.800000, 85 days 14:24:00]  \n",
              "15  (-1 days +13:43:40.800000, 85 days 14:24:00]  \n",
              "16  (-1 days +13:43:40.800000, 85 days 14:24:00]  \n",
              "17  (-1 days +13:43:40.800000, 85 days 14:24:00]  \n",
              "18  (-1 days +13:43:40.800000, 85 days 14:24:00]  \n",
              "19  (-1 days +13:43:40.800000, 85 days 14:24:00]  \n",
              "\n",
              "[20 rows x 24 columns]"
            ],
            "text/html": [
              "\n",
              "  <div id=\"df-28619bf5-4db4-4ade-98e0-ca7aa7125af5\">\n",
              "    <div class=\"colab-df-container\">\n",
              "      <div>\n",
              "<style scoped>\n",
              "    .dataframe tbody tr th:only-of-type {\n",
              "        vertical-align: middle;\n",
              "    }\n",
              "\n",
              "    .dataframe tbody tr th {\n",
              "        vertical-align: top;\n",
              "    }\n",
              "\n",
              "    .dataframe thead th {\n",
              "        text-align: right;\n",
              "    }\n",
              "</style>\n",
              "<table border=\"1\" class=\"dataframe\">\n",
              "  <thead>\n",
              "    <tr style=\"text-align: right;\">\n",
              "      <th></th>\n",
              "      <th>trans_id</th>\n",
              "      <th>account_id</th>\n",
              "      <th>date</th>\n",
              "      <th>type</th>\n",
              "      <th>operation_type</th>\n",
              "      <th>amount</th>\n",
              "      <th>balance</th>\n",
              "      <th>description</th>\n",
              "      <th>partner_bank</th>\n",
              "      <th>partner_account</th>\n",
              "      <th>...</th>\n",
              "      <th>district_name</th>\n",
              "      <th>region</th>\n",
              "      <th>population</th>\n",
              "      <th>average_salary</th>\n",
              "      <th>unemployment_rate</th>\n",
              "      <th>num_committed_crimes</th>\n",
              "      <th>account_open_year</th>\n",
              "      <th>account_age_days</th>\n",
              "      <th>amount_category</th>\n",
              "      <th>account_age_days_category</th>\n",
              "    </tr>\n",
              "  </thead>\n",
              "  <tbody>\n",
              "    <tr>\n",
              "      <th>0</th>\n",
              "      <td>695247</td>\n",
              "      <td>2378.0</td>\n",
              "      <td>1993-01-01</td>\n",
              "      <td>CREDIT</td>\n",
              "      <td>CREDIT IN CASH</td>\n",
              "      <td>700.0</td>\n",
              "      <td>700.0</td>\n",
              "      <td>UNKNOWN</td>\n",
              "      <td>UNKNOWN</td>\n",
              "      <td>999.0</td>\n",
              "      <td>...</td>\n",
              "      <td>Jindrichuv Hradec</td>\n",
              "      <td>south Bohemia</td>\n",
              "      <td>9.393100e+04</td>\n",
              "      <td>8427.000000</td>\n",
              "      <td>1.540000</td>\n",
              "      <td>1913.000000</td>\n",
              "      <td>1993.0</td>\n",
              "      <td>0 days</td>\n",
              "      <td>medium_amount</td>\n",
              "      <td>(-1 days +13:43:40.800000, 85 days 14:24:00]</td>\n",
              "    </tr>\n",
              "    <tr>\n",
              "      <th>1</th>\n",
              "      <td>171812</td>\n",
              "      <td>576.0</td>\n",
              "      <td>1993-01-01</td>\n",
              "      <td>CREDIT</td>\n",
              "      <td>CREDIT IN CASH</td>\n",
              "      <td>900.0</td>\n",
              "      <td>900.0</td>\n",
              "      <td>UNKNOWN</td>\n",
              "      <td>UNKNOWN</td>\n",
              "      <td>999.0</td>\n",
              "      <td>...</td>\n",
              "      <td>Brno - venkov</td>\n",
              "      <td>south Moravia</td>\n",
              "      <td>1.570420e+05</td>\n",
              "      <td>8898.026793</td>\n",
              "      <td>2.430000</td>\n",
              "      <td>3894.000000</td>\n",
              "      <td>1993.0</td>\n",
              "      <td>0 days</td>\n",
              "      <td>medium_amount</td>\n",
              "      <td>(-1 days +13:43:40.800000, 85 days 14:24:00]</td>\n",
              "    </tr>\n",
              "    <tr>\n",
              "      <th>2</th>\n",
              "      <td>207264</td>\n",
              "      <td>704.0</td>\n",
              "      <td>1993-01-01</td>\n",
              "      <td>CREDIT</td>\n",
              "      <td>CREDIT IN CASH</td>\n",
              "      <td>1000.0</td>\n",
              "      <td>1000.0</td>\n",
              "      <td>UNKNOWN</td>\n",
              "      <td>UNKNOWN</td>\n",
              "      <td>999.0</td>\n",
              "      <td>...</td>\n",
              "      <td>Brno - venkov</td>\n",
              "      <td>south Moravia</td>\n",
              "      <td>1.570420e+05</td>\n",
              "      <td>8898.026793</td>\n",
              "      <td>2.430000</td>\n",
              "      <td>3894.000000</td>\n",
              "      <td>1993.0</td>\n",
              "      <td>0 days</td>\n",
              "      <td>medium_amount</td>\n",
              "      <td>(-1 days +13:43:40.800000, 85 days 14:24:00]</td>\n",
              "    </tr>\n",
              "    <tr>\n",
              "      <th>3</th>\n",
              "      <td>1117247</td>\n",
              "      <td>3818.0</td>\n",
              "      <td>1993-01-01</td>\n",
              "      <td>CREDIT</td>\n",
              "      <td>CREDIT IN CASH</td>\n",
              "      <td>600.0</td>\n",
              "      <td>600.0</td>\n",
              "      <td>UNKNOWN</td>\n",
              "      <td>UNKNOWN</td>\n",
              "      <td>999.0</td>\n",
              "      <td>...</td>\n",
              "      <td>Ostrava - mesto</td>\n",
              "      <td>north Moravia</td>\n",
              "      <td>3.238700e+05</td>\n",
              "      <td>10673.000000</td>\n",
              "      <td>5.440000</td>\n",
              "      <td>18347.000000</td>\n",
              "      <td>1993.0</td>\n",
              "      <td>0 days</td>\n",
              "      <td>medium_amount</td>\n",
              "      <td>(-1 days +13:43:40.800000, 85 days 14:24:00]</td>\n",
              "    </tr>\n",
              "    <tr>\n",
              "      <th>4</th>\n",
              "      <td>579373</td>\n",
              "      <td>1972.0</td>\n",
              "      <td>1993-01-02</td>\n",
              "      <td>CREDIT</td>\n",
              "      <td>CREDIT IN CASH</td>\n",
              "      <td>400.0</td>\n",
              "      <td>400.0</td>\n",
              "      <td>UNKNOWN</td>\n",
              "      <td>UNKNOWN</td>\n",
              "      <td>999.0</td>\n",
              "      <td>...</td>\n",
              "      <td>UNKNOWN</td>\n",
              "      <td>UNKNOWN</td>\n",
              "      <td>2.703257e+05</td>\n",
              "      <td>9471.092308</td>\n",
              "      <td>3.586284</td>\n",
              "      <td>17052.157823</td>\n",
              "      <td>1993.0</td>\n",
              "      <td>0 days</td>\n",
              "      <td>low_amount</td>\n",
              "      <td>(-1 days +13:43:40.800000, 85 days 14:24:00]</td>\n",
              "    </tr>\n",
              "    <tr>\n",
              "      <th>5</th>\n",
              "      <td>771035</td>\n",
              "      <td>2632.0</td>\n",
              "      <td>1993-01-02</td>\n",
              "      <td>CREDIT</td>\n",
              "      <td>CREDIT IN CASH</td>\n",
              "      <td>1100.0</td>\n",
              "      <td>1100.0</td>\n",
              "      <td>UNKNOWN</td>\n",
              "      <td>UNKNOWN</td>\n",
              "      <td>999.0</td>\n",
              "      <td>...</td>\n",
              "      <td>Karlovy Vary</td>\n",
              "      <td>west Bohemia</td>\n",
              "      <td>1.226030e+05</td>\n",
              "      <td>8991.000000</td>\n",
              "      <td>2.010000</td>\n",
              "      <td>5273.000000</td>\n",
              "      <td>1993.0</td>\n",
              "      <td>0 days</td>\n",
              "      <td>medium_amount</td>\n",
              "      <td>(-1 days +13:43:40.800000, 85 days 14:24:00]</td>\n",
              "    </tr>\n",
              "    <tr>\n",
              "      <th>6</th>\n",
              "      <td>452728</td>\n",
              "      <td>1539.0</td>\n",
              "      <td>1993-01-03</td>\n",
              "      <td>CREDIT</td>\n",
              "      <td>CREDIT IN CASH</td>\n",
              "      <td>600.0</td>\n",
              "      <td>600.0</td>\n",
              "      <td>UNKNOWN</td>\n",
              "      <td>UNKNOWN</td>\n",
              "      <td>999.0</td>\n",
              "      <td>...</td>\n",
              "      <td>Hl.m. Praha</td>\n",
              "      <td>Prague</td>\n",
              "      <td>1.204953e+06</td>\n",
              "      <td>12541.000000</td>\n",
              "      <td>0.430000</td>\n",
              "      <td>99107.000000</td>\n",
              "      <td>1993.0</td>\n",
              "      <td>0 days</td>\n",
              "      <td>medium_amount</td>\n",
              "      <td>(-1 days +13:43:40.800000, 85 days 14:24:00]</td>\n",
              "    </tr>\n",
              "    <tr>\n",
              "      <th>7</th>\n",
              "      <td>725751</td>\n",
              "      <td>2484.0</td>\n",
              "      <td>1993-01-03</td>\n",
              "      <td>CREDIT</td>\n",
              "      <td>CREDIT IN CASH</td>\n",
              "      <td>1100.0</td>\n",
              "      <td>1100.0</td>\n",
              "      <td>UNKNOWN</td>\n",
              "      <td>UNKNOWN</td>\n",
              "      <td>999.0</td>\n",
              "      <td>...</td>\n",
              "      <td>Ostrava - mesto</td>\n",
              "      <td>north Moravia</td>\n",
              "      <td>3.238700e+05</td>\n",
              "      <td>10673.000000</td>\n",
              "      <td>5.440000</td>\n",
              "      <td>18347.000000</td>\n",
              "      <td>1993.0</td>\n",
              "      <td>0 days</td>\n",
              "      <td>medium_amount</td>\n",
              "      <td>(-1 days +13:43:40.800000, 85 days 14:24:00]</td>\n",
              "    </tr>\n",
              "    <tr>\n",
              "      <th>8</th>\n",
              "      <td>497211</td>\n",
              "      <td>1695.0</td>\n",
              "      <td>1993-01-03</td>\n",
              "      <td>CREDIT</td>\n",
              "      <td>CREDIT IN CASH</td>\n",
              "      <td>200.0</td>\n",
              "      <td>200.0</td>\n",
              "      <td>UNKNOWN</td>\n",
              "      <td>UNKNOWN</td>\n",
              "      <td>999.0</td>\n",
              "      <td>...</td>\n",
              "      <td>Sumperk</td>\n",
              "      <td>north Moravia</td>\n",
              "      <td>1.273690e+05</td>\n",
              "      <td>8369.000000</td>\n",
              "      <td>3.515437</td>\n",
              "      <td>2807.000000</td>\n",
              "      <td>1993.0</td>\n",
              "      <td>0 days</td>\n",
              "      <td>low_amount</td>\n",
              "      <td>(-1 days +13:43:40.800000, 85 days 14:24:00]</td>\n",
              "    </tr>\n",
              "    <tr>\n",
              "      <th>9</th>\n",
              "      <td>232960</td>\n",
              "      <td>793.0</td>\n",
              "      <td>1993-01-03</td>\n",
              "      <td>CREDIT</td>\n",
              "      <td>CREDIT IN CASH</td>\n",
              "      <td>800.0</td>\n",
              "      <td>800.0</td>\n",
              "      <td>UNKNOWN</td>\n",
              "      <td>UNKNOWN</td>\n",
              "      <td>999.0</td>\n",
              "      <td>...</td>\n",
              "      <td>Pardubice</td>\n",
              "      <td>east Bohemia</td>\n",
              "      <td>1.625800e+05</td>\n",
              "      <td>9538.000000</td>\n",
              "      <td>4.424919</td>\n",
              "      <td>5410.000000</td>\n",
              "      <td>1993.0</td>\n",
              "      <td>0 days</td>\n",
              "      <td>medium_amount</td>\n",
              "      <td>(-1 days +13:43:40.800000, 85 days 14:24:00]</td>\n",
              "    </tr>\n",
              "    <tr>\n",
              "      <th>10</th>\n",
              "      <td>505240</td>\n",
              "      <td>1726.0</td>\n",
              "      <td>1993-01-03</td>\n",
              "      <td>CREDIT</td>\n",
              "      <td>CREDIT IN CASH</td>\n",
              "      <td>1000.0</td>\n",
              "      <td>1000.0</td>\n",
              "      <td>UNKNOWN</td>\n",
              "      <td>UNKNOWN</td>\n",
              "      <td>999.0</td>\n",
              "      <td>...</td>\n",
              "      <td>Rychnov nad Kneznou</td>\n",
              "      <td>east Bohemia</td>\n",
              "      <td>7.895500e+04</td>\n",
              "      <td>9060.000000</td>\n",
              "      <td>2.440000</td>\n",
              "      <td>1717.000000</td>\n",
              "      <td>1993.0</td>\n",
              "      <td>0 days</td>\n",
              "      <td>medium_amount</td>\n",
              "      <td>(-1 days +13:43:40.800000, 85 days 14:24:00]</td>\n",
              "    </tr>\n",
              "    <tr>\n",
              "      <th>11</th>\n",
              "      <td>144541</td>\n",
              "      <td>485.0</td>\n",
              "      <td>1993-01-04</td>\n",
              "      <td>CREDIT</td>\n",
              "      <td>CREDIT IN CASH</td>\n",
              "      <td>300.0</td>\n",
              "      <td>300.0</td>\n",
              "      <td>UNKNOWN</td>\n",
              "      <td>UNKNOWN</td>\n",
              "      <td>999.0</td>\n",
              "      <td>...</td>\n",
              "      <td>Kutna Hora</td>\n",
              "      <td>central Bohemia</td>\n",
              "      <td>7.796300e+04</td>\n",
              "      <td>8546.000000</td>\n",
              "      <td>4.020000</td>\n",
              "      <td>3120.000000</td>\n",
              "      <td>1993.0</td>\n",
              "      <td>0 days</td>\n",
              "      <td>low_amount</td>\n",
              "      <td>(-1 days +13:43:40.800000, 85 days 14:24:00]</td>\n",
              "    </tr>\n",
              "    <tr>\n",
              "      <th>12</th>\n",
              "      <td>637741</td>\n",
              "      <td>2177.0</td>\n",
              "      <td>1993-01-04</td>\n",
              "      <td>CREDIT</td>\n",
              "      <td>CREDIT IN CASH</td>\n",
              "      <td>800.0</td>\n",
              "      <td>800.0</td>\n",
              "      <td>UNKNOWN</td>\n",
              "      <td>UNKNOWN</td>\n",
              "      <td>999.0</td>\n",
              "      <td>...</td>\n",
              "      <td>Uherske Hradiste</td>\n",
              "      <td>south Moravia</td>\n",
              "      <td>1.456880e+05</td>\n",
              "      <td>8544.000000</td>\n",
              "      <td>1.860000</td>\n",
              "      <td>2906.000000</td>\n",
              "      <td>1993.0</td>\n",
              "      <td>0 days</td>\n",
              "      <td>medium_amount</td>\n",
              "      <td>(-1 days +13:43:40.800000, 85 days 14:24:00]</td>\n",
              "    </tr>\n",
              "    <tr>\n",
              "      <th>13</th>\n",
              "      <td>689827</td>\n",
              "      <td>2357.0</td>\n",
              "      <td>1993-01-04</td>\n",
              "      <td>CREDIT</td>\n",
              "      <td>CREDIT IN CASH</td>\n",
              "      <td>800.0</td>\n",
              "      <td>800.0</td>\n",
              "      <td>UNKNOWN</td>\n",
              "      <td>UNKNOWN</td>\n",
              "      <td>999.0</td>\n",
              "      <td>...</td>\n",
              "      <td>Prachatice</td>\n",
              "      <td>south Bohemia</td>\n",
              "      <td>5.142800e+04</td>\n",
              "      <td>8402.000000</td>\n",
              "      <td>3.980000</td>\n",
              "      <td>1099.000000</td>\n",
              "      <td>1993.0</td>\n",
              "      <td>0 days</td>\n",
              "      <td>medium_amount</td>\n",
              "      <td>(-1 days +13:43:40.800000, 85 days 14:24:00]</td>\n",
              "    </tr>\n",
              "    <tr>\n",
              "      <th>14</th>\n",
              "      <td>846006</td>\n",
              "      <td>2881.0</td>\n",
              "      <td>1993-01-04</td>\n",
              "      <td>CREDIT</td>\n",
              "      <td>CREDIT IN CASH</td>\n",
              "      <td>700.0</td>\n",
              "      <td>700.0</td>\n",
              "      <td>UNKNOWN</td>\n",
              "      <td>UNKNOWN</td>\n",
              "      <td>999.0</td>\n",
              "      <td>...</td>\n",
              "      <td>Karvina</td>\n",
              "      <td>north Moravia</td>\n",
              "      <td>2.853870e+05</td>\n",
              "      <td>10177.000000</td>\n",
              "      <td>7.750000</td>\n",
              "      <td>10108.000000</td>\n",
              "      <td>1993.0</td>\n",
              "      <td>0 days</td>\n",
              "      <td>medium_amount</td>\n",
              "      <td>(-1 days +13:43:40.800000, 85 days 14:24:00]</td>\n",
              "    </tr>\n",
              "    <tr>\n",
              "      <th>15</th>\n",
              "      <td>637742</td>\n",
              "      <td>2177.0</td>\n",
              "      <td>1993-01-05</td>\n",
              "      <td>CREDIT</td>\n",
              "      <td>COLLECTION FROM ANOTHER BANK</td>\n",
              "      <td>5123.0</td>\n",
              "      <td>5923.0</td>\n",
              "      <td>PENSION</td>\n",
              "      <td>YZ</td>\n",
              "      <td>62457513.0</td>\n",
              "      <td>...</td>\n",
              "      <td>Uherske Hradiste</td>\n",
              "      <td>south Moravia</td>\n",
              "      <td>1.456880e+05</td>\n",
              "      <td>8544.000000</td>\n",
              "      <td>1.860000</td>\n",
              "      <td>2906.000000</td>\n",
              "      <td>1993.0</td>\n",
              "      <td>1 days</td>\n",
              "      <td>medium_amount</td>\n",
              "      <td>(-1 days +13:43:40.800000, 85 days 14:24:00]</td>\n",
              "    </tr>\n",
              "    <tr>\n",
              "      <th>16</th>\n",
              "      <td>2908688</td>\n",
              "      <td>9635.0</td>\n",
              "      <td>1993-01-05</td>\n",
              "      <td>CREDIT</td>\n",
              "      <td>CREDIT IN CASH</td>\n",
              "      <td>400.0</td>\n",
              "      <td>400.0</td>\n",
              "      <td>UNKNOWN</td>\n",
              "      <td>UNKNOWN</td>\n",
              "      <td>999.0</td>\n",
              "      <td>...</td>\n",
              "      <td>Karvina</td>\n",
              "      <td>north Moravia</td>\n",
              "      <td>2.853870e+05</td>\n",
              "      <td>10177.000000</td>\n",
              "      <td>7.750000</td>\n",
              "      <td>10108.000000</td>\n",
              "      <td>1993.0</td>\n",
              "      <td>0 days</td>\n",
              "      <td>low_amount</td>\n",
              "      <td>(-1 days +13:43:40.800000, 85 days 14:24:00]</td>\n",
              "    </tr>\n",
              "    <tr>\n",
              "      <th>17</th>\n",
              "      <td>232961</td>\n",
              "      <td>793.0</td>\n",
              "      <td>1993-01-05</td>\n",
              "      <td>CREDIT</td>\n",
              "      <td>COLLECTION FROM ANOTHER BANK</td>\n",
              "      <td>3401.0</td>\n",
              "      <td>4201.0</td>\n",
              "      <td>UNKNOWN</td>\n",
              "      <td>IJ</td>\n",
              "      <td>6149286.0</td>\n",
              "      <td>...</td>\n",
              "      <td>Pardubice</td>\n",
              "      <td>east Bohemia</td>\n",
              "      <td>1.625800e+05</td>\n",
              "      <td>9538.000000</td>\n",
              "      <td>4.424919</td>\n",
              "      <td>5410.000000</td>\n",
              "      <td>1993.0</td>\n",
              "      <td>2 days</td>\n",
              "      <td>medium_amount</td>\n",
              "      <td>(-1 days +13:43:40.800000, 85 days 14:24:00]</td>\n",
              "    </tr>\n",
              "    <tr>\n",
              "      <th>18</th>\n",
              "      <td>192096</td>\n",
              "      <td>652.0</td>\n",
              "      <td>1993-01-05</td>\n",
              "      <td>CREDIT</td>\n",
              "      <td>CREDIT IN CASH</td>\n",
              "      <td>700.0</td>\n",
              "      <td>700.0</td>\n",
              "      <td>UNKNOWN</td>\n",
              "      <td>UNKNOWN</td>\n",
              "      <td>999.0</td>\n",
              "      <td>...</td>\n",
              "      <td>Tabor</td>\n",
              "      <td>south Bohemia</td>\n",
              "      <td>1.033470e+05</td>\n",
              "      <td>9104.000000</td>\n",
              "      <td>2.070000</td>\n",
              "      <td>2354.000000</td>\n",
              "      <td>1993.0</td>\n",
              "      <td>0 days</td>\n",
              "      <td>medium_amount</td>\n",
              "      <td>(-1 days +13:43:40.800000, 85 days 14:24:00]</td>\n",
              "    </tr>\n",
              "    <tr>\n",
              "      <th>19</th>\n",
              "      <td>542215</td>\n",
              "      <td>1844.0</td>\n",
              "      <td>1993-01-06</td>\n",
              "      <td>CREDIT</td>\n",
              "      <td>CREDIT IN CASH</td>\n",
              "      <td>500.0</td>\n",
              "      <td>500.0</td>\n",
              "      <td>UNKNOWN</td>\n",
              "      <td>UNKNOWN</td>\n",
              "      <td>999.0</td>\n",
              "      <td>...</td>\n",
              "      <td>Chrudim</td>\n",
              "      <td>east Bohemia</td>\n",
              "      <td>1.056060e+05</td>\n",
              "      <td>8254.000000</td>\n",
              "      <td>3.760000</td>\n",
              "      <td>2325.000000</td>\n",
              "      <td>1993.0</td>\n",
              "      <td>0 days</td>\n",
              "      <td>medium_amount</td>\n",
              "      <td>(-1 days +13:43:40.800000, 85 days 14:24:00]</td>\n",
              "    </tr>\n",
              "  </tbody>\n",
              "</table>\n",
              "<p>20 rows × 24 columns</p>\n",
              "</div>\n",
              "      <button class=\"colab-df-convert\" onclick=\"convertToInteractive('df-28619bf5-4db4-4ade-98e0-ca7aa7125af5')\"\n",
              "              title=\"Convert this dataframe to an interactive table.\"\n",
              "              style=\"display:none;\">\n",
              "        \n",
              "  <svg xmlns=\"http://www.w3.org/2000/svg\" height=\"24px\"viewBox=\"0 0 24 24\"\n",
              "       width=\"24px\">\n",
              "    <path d=\"M0 0h24v24H0V0z\" fill=\"none\"/>\n",
              "    <path d=\"M18.56 5.44l.94 2.06.94-2.06 2.06-.94-2.06-.94-.94-2.06-.94 2.06-2.06.94zm-11 1L8.5 8.5l.94-2.06 2.06-.94-2.06-.94L8.5 2.5l-.94 2.06-2.06.94zm10 10l.94 2.06.94-2.06 2.06-.94-2.06-.94-.94-2.06-.94 2.06-2.06.94z\"/><path d=\"M17.41 7.96l-1.37-1.37c-.4-.4-.92-.59-1.43-.59-.52 0-1.04.2-1.43.59L10.3 9.45l-7.72 7.72c-.78.78-.78 2.05 0 2.83L4 21.41c.39.39.9.59 1.41.59.51 0 1.02-.2 1.41-.59l7.78-7.78 2.81-2.81c.8-.78.8-2.07 0-2.86zM5.41 20L4 18.59l7.72-7.72 1.47 1.35L5.41 20z\"/>\n",
              "  </svg>\n",
              "      </button>\n",
              "      \n",
              "  <style>\n",
              "    .colab-df-container {\n",
              "      display:flex;\n",
              "      flex-wrap:wrap;\n",
              "      gap: 12px;\n",
              "    }\n",
              "\n",
              "    .colab-df-convert {\n",
              "      background-color: #E8F0FE;\n",
              "      border: none;\n",
              "      border-radius: 50%;\n",
              "      cursor: pointer;\n",
              "      display: none;\n",
              "      fill: #1967D2;\n",
              "      height: 32px;\n",
              "      padding: 0 0 0 0;\n",
              "      width: 32px;\n",
              "    }\n",
              "\n",
              "    .colab-df-convert:hover {\n",
              "      background-color: #E2EBFA;\n",
              "      box-shadow: 0px 1px 2px rgba(60, 64, 67, 0.3), 0px 1px 3px 1px rgba(60, 64, 67, 0.15);\n",
              "      fill: #174EA6;\n",
              "    }\n",
              "\n",
              "    [theme=dark] .colab-df-convert {\n",
              "      background-color: #3B4455;\n",
              "      fill: #D2E3FC;\n",
              "    }\n",
              "\n",
              "    [theme=dark] .colab-df-convert:hover {\n",
              "      background-color: #434B5C;\n",
              "      box-shadow: 0px 1px 3px 1px rgba(0, 0, 0, 0.15);\n",
              "      filter: drop-shadow(0px 1px 2px rgba(0, 0, 0, 0.3));\n",
              "      fill: #FFFFFF;\n",
              "    }\n",
              "  </style>\n",
              "\n",
              "      <script>\n",
              "        const buttonEl =\n",
              "          document.querySelector('#df-28619bf5-4db4-4ade-98e0-ca7aa7125af5 button.colab-df-convert');\n",
              "        buttonEl.style.display =\n",
              "          google.colab.kernel.accessAllowed ? 'block' : 'none';\n",
              "\n",
              "        async function convertToInteractive(key) {\n",
              "          const element = document.querySelector('#df-28619bf5-4db4-4ade-98e0-ca7aa7125af5');\n",
              "          const dataTable =\n",
              "            await google.colab.kernel.invokeFunction('convertToInteractive',\n",
              "                                                     [key], {});\n",
              "          if (!dataTable) return;\n",
              "\n",
              "          const docLinkHtml = 'Like what you see? Visit the ' +\n",
              "            '<a target=\"_blank\" href=https://colab.research.google.com/notebooks/data_table.ipynb>data table notebook</a>'\n",
              "            + ' to learn more about interactive tables.';\n",
              "          element.innerHTML = '';\n",
              "          dataTable['output_type'] = 'display_data';\n",
              "          await google.colab.output.renderOutput(dataTable, element);\n",
              "          const docLink = document.createElement('div');\n",
              "          docLink.innerHTML = docLinkHtml;\n",
              "          element.appendChild(docLink);\n",
              "        }\n",
              "      </script>\n",
              "    </div>\n",
              "  </div>\n",
              "  "
            ]
          },
          "metadata": {},
          "execution_count": 135
        }
      ],
      "source": [
        "all_data.head(20)"
      ]
    },
    {
      "cell_type": "code",
      "source": [
        ""
      ],
      "metadata": {
        "id": "-_lz12zmcUIE"
      },
      "execution_count": null,
      "outputs": []
    }
  ],
  "metadata": {
    "kernelspec": {
      "display_name": "Python 3",
      "language": "python",
      "name": "python3"
    },
    "language_info": {
      "codemirror_mode": {
        "name": "ipython",
        "version": 3
      },
      "file_extension": ".py",
      "mimetype": "text/x-python",
      "name": "python",
      "nbconvert_exporter": "python",
      "pygments_lexer": "ipython3",
      "version": "3.7.6"
    },
    "colab": {
      "name": "Question_practice_exercise+(cleaning_transforming).ipynb",
      "provenance": [],
      "collapsed_sections": [
        "yN-_O2_q1YWG",
        "wMC-6fN91YWH",
        "jQIFsPPn1YWH",
        "Fbjz17Ey1YWI",
        "Bat4Rq751YWJ",
        "kw_XOte31YWK",
        "pjgrqYL41YWK",
        "sLItFkMx1YWN",
        "jSPlPMXb1YWN",
        "nXL4OC3P1YWO",
        "7_hJO1Pb1YWO",
        "NgOuUX4a1YWO",
        "4yo_rS9E1YWP",
        "UvQDwQUg1YWP",
        "ceaPphdl1YWP",
        "ypIFCABS1YWQ",
        "iGKzYyJB1YWQ",
        "GerzqBI11YWQ",
        "Y6tdH-Ql1YWR",
        "DkVwzXv61YWS",
        "LyIX4__F1YWS",
        "SR_nc1Ih1YWS",
        "7R9MOT6i1YWS",
        "kBfRJIIu1YWT",
        "ml9_WL9K1YWT"
      ]
    }
  },
  "nbformat": 4,
  "nbformat_minor": 0
}